{
 "cells": [
  {
   "cell_type": "code",
   "execution_count": 1,
   "id": "02e46e48",
   "metadata": {},
   "outputs": [],
   "source": [
    "from neo4j import GraphDatabase, basic_auth\n",
    "\n",
    "driver = GraphDatabase.driver(\n",
    "  \"bolt://52.6.70.195:7687\",\n",
    "  auth=basic_auth(\"neo4j\", \"rank-composition-bomb\"))\n",
    "session = driver.session()"
   ]
  },
  {
   "cell_type": "code",
   "execution_count": 2,
   "id": "5df3852a",
   "metadata": {},
   "outputs": [
    {
     "ename": "ServiceUnavailable",
     "evalue": "Couldn't connect to 52.6.70.195:7687 (resolved to ('52.6.70.195:7687',)):\nTimed out trying to establish connection to ResolvedIPv4Address(('52.6.70.195', 7687))",
     "output_type": "error",
     "traceback": [
      "\u001b[0;31m---------------------------------------------------------------------------\u001b[0m",
      "\u001b[0;31mtimeout\u001b[0m                                   Traceback (most recent call last)",
      "File \u001b[0;32m/opt/anaconda3/envs/neo4j/lib/python3.9/site-packages/neo4j/io/__init__.py:1253\u001b[0m, in \u001b[0;36m_connect\u001b[0;34m(resolved_address, timeout, keep_alive)\u001b[0m\n\u001b[1;32m   <a href='file:///opt/anaconda3/envs/neo4j/lib/python3.9/site-packages/neo4j/io/__init__.py?line=1251'>1252</a>\u001b[0m log\u001b[39m.\u001b[39mdebug(\u001b[39m\"\u001b[39m\u001b[39m[#0000]  C: <OPEN> \u001b[39m\u001b[39m%s\u001b[39;00m\u001b[39m\"\u001b[39m, resolved_address)\n\u001b[0;32m-> <a href='file:///opt/anaconda3/envs/neo4j/lib/python3.9/site-packages/neo4j/io/__init__.py?line=1252'>1253</a>\u001b[0m s\u001b[39m.\u001b[39;49mconnect(resolved_address)\n\u001b[1;32m   <a href='file:///opt/anaconda3/envs/neo4j/lib/python3.9/site-packages/neo4j/io/__init__.py?line=1253'>1254</a>\u001b[0m s\u001b[39m.\u001b[39msettimeout(t)\n",
      "\u001b[0;31mtimeout\u001b[0m: timed out",
      "\nDuring handling of the above exception, another exception occurred:\n",
      "\u001b[0;31mServiceUnavailable\u001b[0m                        Traceback (most recent call last)",
      "File \u001b[0;32m/opt/anaconda3/envs/neo4j/lib/python3.9/site-packages/neo4j/io/__init__.py:1374\u001b[0m, in \u001b[0;36mconnect\u001b[0;34m(address, timeout, custom_resolver, ssl_context, keep_alive)\u001b[0m\n\u001b[1;32m   <a href='file:///opt/anaconda3/envs/neo4j/lib/python3.9/site-packages/neo4j/io/__init__.py?line=1372'>1373</a>\u001b[0m \u001b[39mtry\u001b[39;00m:\n\u001b[0;32m-> <a href='file:///opt/anaconda3/envs/neo4j/lib/python3.9/site-packages/neo4j/io/__init__.py?line=1373'>1374</a>\u001b[0m     s \u001b[39m=\u001b[39m _connect(resolved_address, timeout, keep_alive)\n\u001b[1;32m   <a href='file:///opt/anaconda3/envs/neo4j/lib/python3.9/site-packages/neo4j/io/__init__.py?line=1374'>1375</a>\u001b[0m     s \u001b[39m=\u001b[39m _secure(s, resolved_address\u001b[39m.\u001b[39mhost_name, ssl_context)\n",
      "File \u001b[0;32m/opt/anaconda3/envs/neo4j/lib/python3.9/site-packages/neo4j/io/__init__.py:1261\u001b[0m, in \u001b[0;36m_connect\u001b[0;34m(resolved_address, timeout, keep_alive)\u001b[0m\n\u001b[1;32m   <a href='file:///opt/anaconda3/envs/neo4j/lib/python3.9/site-packages/neo4j/io/__init__.py?line=1259'>1260</a>\u001b[0m     _close_socket(s)\n\u001b[0;32m-> <a href='file:///opt/anaconda3/envs/neo4j/lib/python3.9/site-packages/neo4j/io/__init__.py?line=1260'>1261</a>\u001b[0m     \u001b[39mraise\u001b[39;00m ServiceUnavailable(\u001b[39m\"\u001b[39m\u001b[39mTimed out trying to establish connection to \u001b[39m\u001b[39m{!r}\u001b[39;00m\u001b[39m\"\u001b[39m\u001b[39m.\u001b[39mformat(resolved_address))\n\u001b[1;32m   <a href='file:///opt/anaconda3/envs/neo4j/lib/python3.9/site-packages/neo4j/io/__init__.py?line=1261'>1262</a>\u001b[0m \u001b[39mexcept\u001b[39;00m \u001b[39mOSError\u001b[39;00m \u001b[39mas\u001b[39;00m error:\n",
      "\u001b[0;31mServiceUnavailable\u001b[0m: Timed out trying to establish connection to ResolvedIPv4Address(('52.6.70.195', 7687))",
      "\nThe above exception was the direct cause of the following exception:\n",
      "\u001b[0;31mServiceUnavailable\u001b[0m                        Traceback (most recent call last)",
      "\u001b[1;32m/Users/computing/MLExchange/demos/mlex_user_portal/notebooks/Make_figure_2.ipynb Cell 2'\u001b[0m in \u001b[0;36m<module>\u001b[0;34m\u001b[0m\n\u001b[1;32m      <a href='vscode-notebook-cell:/Users/computing/MLExchange/demos/mlex_user_portal/notebooks/Make_figure_2.ipynb#ch0000001?line=0'>1</a>\u001b[0m cypher_query \u001b[39m=\u001b[39m \u001b[39m'''\u001b[39m\n\u001b[1;32m      <a href='vscode-notebook-cell:/Users/computing/MLExchange/demos/mlex_user_portal/notebooks/Make_figure_2.ipynb#ch0000001?line=1'>2</a>\u001b[0m \u001b[39mMatch (n)\u001b[39m\n\u001b[1;32m      <a href='vscode-notebook-cell:/Users/computing/MLExchange/demos/mlex_user_portal/notebooks/Make_figure_2.ipynb#ch0000001?line=2'>3</a>\u001b[0m \u001b[39mDETACH DELETE n\u001b[39m\n\u001b[1;32m      <a href='vscode-notebook-cell:/Users/computing/MLExchange/demos/mlex_user_portal/notebooks/Make_figure_2.ipynb#ch0000001?line=3'>4</a>\u001b[0m \u001b[39m'''\u001b[39m\n\u001b[0;32m----> <a href='vscode-notebook-cell:/Users/computing/MLExchange/demos/mlex_user_portal/notebooks/Make_figure_2.ipynb#ch0000001?line=4'>5</a>\u001b[0m results \u001b[39m=\u001b[39m session\u001b[39m.\u001b[39;49mrun(cypher_query)\n",
      "File \u001b[0;32m/opt/anaconda3/envs/neo4j/lib/python3.9/site-packages/neo4j/work/simple.py:204\u001b[0m, in \u001b[0;36mSession.run\u001b[0;34m(self, query, parameters, **kwparameters)\u001b[0m\n\u001b[1;32m    <a href='file:///opt/anaconda3/envs/neo4j/lib/python3.9/site-packages/neo4j/work/simple.py?line=200'>201</a>\u001b[0m     \u001b[39mself\u001b[39m\u001b[39m.\u001b[39m_autoResult\u001b[39m.\u001b[39m_buffer_all()  \u001b[39m# This will buffer upp all records for the previous auto-transaction\u001b[39;00m\n\u001b[1;32m    <a href='file:///opt/anaconda3/envs/neo4j/lib/python3.9/site-packages/neo4j/work/simple.py?line=202'>203</a>\u001b[0m \u001b[39mif\u001b[39;00m \u001b[39mnot\u001b[39;00m \u001b[39mself\u001b[39m\u001b[39m.\u001b[39m_connection:\n\u001b[0;32m--> <a href='file:///opt/anaconda3/envs/neo4j/lib/python3.9/site-packages/neo4j/work/simple.py?line=203'>204</a>\u001b[0m     \u001b[39mself\u001b[39;49m\u001b[39m.\u001b[39;49m_connect(\u001b[39mself\u001b[39;49m\u001b[39m.\u001b[39;49m_config\u001b[39m.\u001b[39;49mdefault_access_mode)\n\u001b[1;32m    <a href='file:///opt/anaconda3/envs/neo4j/lib/python3.9/site-packages/neo4j/work/simple.py?line=204'>205</a>\u001b[0m cx \u001b[39m=\u001b[39m \u001b[39mself\u001b[39m\u001b[39m.\u001b[39m_connection\n\u001b[1;32m    <a href='file:///opt/anaconda3/envs/neo4j/lib/python3.9/site-packages/neo4j/work/simple.py?line=205'>206</a>\u001b[0m protocol_version \u001b[39m=\u001b[39m cx\u001b[39m.\u001b[39mPROTOCOL_VERSION\n",
      "File \u001b[0;32m/opt/anaconda3/envs/neo4j/lib/python3.9/site-packages/neo4j/work/simple.py:108\u001b[0m, in \u001b[0;36mSession._connect\u001b[0;34m(self, access_mode)\u001b[0m\n\u001b[1;32m    <a href='file:///opt/anaconda3/envs/neo4j/lib/python3.9/site-packages/neo4j/work/simple.py?line=105'>106</a>\u001b[0m \u001b[39mif\u001b[39;00m access_mode \u001b[39mis\u001b[39;00m \u001b[39mNone\u001b[39;00m:\n\u001b[1;32m    <a href='file:///opt/anaconda3/envs/neo4j/lib/python3.9/site-packages/neo4j/work/simple.py?line=106'>107</a>\u001b[0m     access_mode \u001b[39m=\u001b[39m \u001b[39mself\u001b[39m\u001b[39m.\u001b[39m_config\u001b[39m.\u001b[39mdefault_access_mode\n\u001b[0;32m--> <a href='file:///opt/anaconda3/envs/neo4j/lib/python3.9/site-packages/neo4j/work/simple.py?line=107'>108</a>\u001b[0m \u001b[39msuper\u001b[39;49m()\u001b[39m.\u001b[39;49m_connect(access_mode)\n",
      "File \u001b[0;32m/opt/anaconda3/envs/neo4j/lib/python3.9/site-packages/neo4j/work/__init__.py:79\u001b[0m, in \u001b[0;36mWorkspace._connect\u001b[0;34m(self, access_mode)\u001b[0m\n\u001b[1;32m     <a href='file:///opt/anaconda3/envs/neo4j/lib/python3.9/site-packages/neo4j/work/__init__.py?line=65'>66</a>\u001b[0m     \u001b[39melse\u001b[39;00m:\n\u001b[1;32m     <a href='file:///opt/anaconda3/envs/neo4j/lib/python3.9/site-packages/neo4j/work/__init__.py?line=66'>67</a>\u001b[0m         \u001b[39m# This is the first time we open a connection to a server in a\u001b[39;00m\n\u001b[1;32m     <a href='file:///opt/anaconda3/envs/neo4j/lib/python3.9/site-packages/neo4j/work/__init__.py?line=67'>68</a>\u001b[0m         \u001b[39m# cluster environment for this session without explicitly\u001b[39;00m\n\u001b[0;32m   (...)\u001b[0m\n\u001b[1;32m     <a href='file:///opt/anaconda3/envs/neo4j/lib/python3.9/site-packages/neo4j/work/__init__.py?line=70'>71</a>\u001b[0m         \u001b[39m# we shall use this database explicitly for all subsequent\u001b[39;00m\n\u001b[1;32m     <a href='file:///opt/anaconda3/envs/neo4j/lib/python3.9/site-packages/neo4j/work/__init__.py?line=71'>72</a>\u001b[0m         \u001b[39m# actions within this session.\u001b[39;00m\n\u001b[1;32m     <a href='file:///opt/anaconda3/envs/neo4j/lib/python3.9/site-packages/neo4j/work/__init__.py?line=72'>73</a>\u001b[0m         \u001b[39mself\u001b[39m\u001b[39m.\u001b[39m_pool\u001b[39m.\u001b[39mupdate_routing_table(\n\u001b[1;32m     <a href='file:///opt/anaconda3/envs/neo4j/lib/python3.9/site-packages/neo4j/work/__init__.py?line=73'>74</a>\u001b[0m             database\u001b[39m=\u001b[39m\u001b[39mself\u001b[39m\u001b[39m.\u001b[39m_config\u001b[39m.\u001b[39mdatabase,\n\u001b[1;32m     <a href='file:///opt/anaconda3/envs/neo4j/lib/python3.9/site-packages/neo4j/work/__init__.py?line=74'>75</a>\u001b[0m             imp_user\u001b[39m=\u001b[39m\u001b[39mself\u001b[39m\u001b[39m.\u001b[39m_config\u001b[39m.\u001b[39mimpersonated_user,\n\u001b[1;32m     <a href='file:///opt/anaconda3/envs/neo4j/lib/python3.9/site-packages/neo4j/work/__init__.py?line=75'>76</a>\u001b[0m             bookmarks\u001b[39m=\u001b[39m\u001b[39mself\u001b[39m\u001b[39m.\u001b[39m_bookmarks,\n\u001b[1;32m     <a href='file:///opt/anaconda3/envs/neo4j/lib/python3.9/site-packages/neo4j/work/__init__.py?line=76'>77</a>\u001b[0m             database_callback\u001b[39m=\u001b[39m\u001b[39mself\u001b[39m\u001b[39m.\u001b[39m_set_cached_database\n\u001b[1;32m     <a href='file:///opt/anaconda3/envs/neo4j/lib/python3.9/site-packages/neo4j/work/__init__.py?line=77'>78</a>\u001b[0m         )\n\u001b[0;32m---> <a href='file:///opt/anaconda3/envs/neo4j/lib/python3.9/site-packages/neo4j/work/__init__.py?line=78'>79</a>\u001b[0m \u001b[39mself\u001b[39m\u001b[39m.\u001b[39m_connection \u001b[39m=\u001b[39m \u001b[39mself\u001b[39;49m\u001b[39m.\u001b[39;49m_pool\u001b[39m.\u001b[39;49macquire(\n\u001b[1;32m     <a href='file:///opt/anaconda3/envs/neo4j/lib/python3.9/site-packages/neo4j/work/__init__.py?line=79'>80</a>\u001b[0m     access_mode\u001b[39m=\u001b[39;49maccess_mode,\n\u001b[1;32m     <a href='file:///opt/anaconda3/envs/neo4j/lib/python3.9/site-packages/neo4j/work/__init__.py?line=80'>81</a>\u001b[0m     timeout\u001b[39m=\u001b[39;49m\u001b[39mself\u001b[39;49m\u001b[39m.\u001b[39;49m_config\u001b[39m.\u001b[39;49mconnection_acquisition_timeout,\n\u001b[1;32m     <a href='file:///opt/anaconda3/envs/neo4j/lib/python3.9/site-packages/neo4j/work/__init__.py?line=81'>82</a>\u001b[0m     database\u001b[39m=\u001b[39;49m\u001b[39mself\u001b[39;49m\u001b[39m.\u001b[39;49m_config\u001b[39m.\u001b[39;49mdatabase,\n\u001b[1;32m     <a href='file:///opt/anaconda3/envs/neo4j/lib/python3.9/site-packages/neo4j/work/__init__.py?line=82'>83</a>\u001b[0m     bookmarks\u001b[39m=\u001b[39;49m\u001b[39mself\u001b[39;49m\u001b[39m.\u001b[39;49m_bookmarks\n\u001b[1;32m     <a href='file:///opt/anaconda3/envs/neo4j/lib/python3.9/site-packages/neo4j/work/__init__.py?line=83'>84</a>\u001b[0m )\n\u001b[1;32m     <a href='file:///opt/anaconda3/envs/neo4j/lib/python3.9/site-packages/neo4j/work/__init__.py?line=84'>85</a>\u001b[0m \u001b[39mself\u001b[39m\u001b[39m.\u001b[39m_connection_access_mode \u001b[39m=\u001b[39m access_mode\n",
      "File \u001b[0;32m/opt/anaconda3/envs/neo4j/lib/python3.9/site-packages/neo4j/io/__init__.py:842\u001b[0m, in \u001b[0;36mBoltPool.acquire\u001b[0;34m(self, access_mode, timeout, database, bookmarks)\u001b[0m\n\u001b[1;32m    <a href='file:///opt/anaconda3/envs/neo4j/lib/python3.9/site-packages/neo4j/io/__init__.py?line=839'>840</a>\u001b[0m \u001b[39mdef\u001b[39;00m \u001b[39macquire\u001b[39m(\u001b[39mself\u001b[39m, access_mode\u001b[39m=\u001b[39m\u001b[39mNone\u001b[39;00m, timeout\u001b[39m=\u001b[39m\u001b[39mNone\u001b[39;00m, database\u001b[39m=\u001b[39m\u001b[39mNone\u001b[39;00m, bookmarks\u001b[39m=\u001b[39m\u001b[39mNone\u001b[39;00m):\n\u001b[1;32m    <a href='file:///opt/anaconda3/envs/neo4j/lib/python3.9/site-packages/neo4j/io/__init__.py?line=840'>841</a>\u001b[0m     \u001b[39m# The access_mode and database is not needed for a direct connection, its just there for consistency.\u001b[39;00m\n\u001b[0;32m--> <a href='file:///opt/anaconda3/envs/neo4j/lib/python3.9/site-packages/neo4j/io/__init__.py?line=841'>842</a>\u001b[0m     \u001b[39mreturn\u001b[39;00m \u001b[39mself\u001b[39;49m\u001b[39m.\u001b[39;49m_acquire(\u001b[39mself\u001b[39;49m\u001b[39m.\u001b[39;49maddress, timeout)\n",
      "File \u001b[0;32m/opt/anaconda3/envs/neo4j/lib/python3.9/site-packages/neo4j/io/__init__.py:696\u001b[0m, in \u001b[0;36mIOPool._acquire\u001b[0;34m(self, address, timeout)\u001b[0m\n\u001b[1;32m    <a href='file:///opt/anaconda3/envs/neo4j/lib/python3.9/site-packages/neo4j/io/__init__.py?line=692'>693</a>\u001b[0m timeout \u001b[39m=\u001b[39m \u001b[39mmin\u001b[39m(\u001b[39mself\u001b[39m\u001b[39m.\u001b[39mpool_config\u001b[39m.\u001b[39mconnection_timeout,\n\u001b[1;32m    <a href='file:///opt/anaconda3/envs/neo4j/lib/python3.9/site-packages/neo4j/io/__init__.py?line=693'>694</a>\u001b[0m               time_remaining())\n\u001b[1;32m    <a href='file:///opt/anaconda3/envs/neo4j/lib/python3.9/site-packages/neo4j/io/__init__.py?line=694'>695</a>\u001b[0m \u001b[39mtry\u001b[39;00m:\n\u001b[0;32m--> <a href='file:///opt/anaconda3/envs/neo4j/lib/python3.9/site-packages/neo4j/io/__init__.py?line=695'>696</a>\u001b[0m     connection \u001b[39m=\u001b[39m \u001b[39mself\u001b[39;49m\u001b[39m.\u001b[39;49mopener(address, timeout)\n\u001b[1;32m    <a href='file:///opt/anaconda3/envs/neo4j/lib/python3.9/site-packages/neo4j/io/__init__.py?line=696'>697</a>\u001b[0m \u001b[39mexcept\u001b[39;00m ServiceUnavailable:\n\u001b[1;32m    <a href='file:///opt/anaconda3/envs/neo4j/lib/python3.9/site-packages/neo4j/io/__init__.py?line=697'>698</a>\u001b[0m     \u001b[39mself\u001b[39m\u001b[39m.\u001b[39mremove(address)\n",
      "File \u001b[0;32m/opt/anaconda3/envs/neo4j/lib/python3.9/site-packages/neo4j/io/__init__.py:825\u001b[0m, in \u001b[0;36mBoltPool.open.<locals>.opener\u001b[0;34m(addr, timeout)\u001b[0m\n\u001b[1;32m    <a href='file:///opt/anaconda3/envs/neo4j/lib/python3.9/site-packages/neo4j/io/__init__.py?line=823'>824</a>\u001b[0m \u001b[39mdef\u001b[39;00m \u001b[39mopener\u001b[39m(addr, timeout):\n\u001b[0;32m--> <a href='file:///opt/anaconda3/envs/neo4j/lib/python3.9/site-packages/neo4j/io/__init__.py?line=824'>825</a>\u001b[0m     \u001b[39mreturn\u001b[39;00m Bolt\u001b[39m.\u001b[39;49mopen(\n\u001b[1;32m    <a href='file:///opt/anaconda3/envs/neo4j/lib/python3.9/site-packages/neo4j/io/__init__.py?line=825'>826</a>\u001b[0m         addr, auth\u001b[39m=\u001b[39;49mauth, timeout\u001b[39m=\u001b[39;49mtimeout, routing_context\u001b[39m=\u001b[39;49m\u001b[39mNone\u001b[39;49;00m,\n\u001b[1;32m    <a href='file:///opt/anaconda3/envs/neo4j/lib/python3.9/site-packages/neo4j/io/__init__.py?line=826'>827</a>\u001b[0m         \u001b[39m*\u001b[39;49m\u001b[39m*\u001b[39;49mpool_config\n\u001b[1;32m    <a href='file:///opt/anaconda3/envs/neo4j/lib/python3.9/site-packages/neo4j/io/__init__.py?line=827'>828</a>\u001b[0m     )\n",
      "File \u001b[0;32m/opt/anaconda3/envs/neo4j/lib/python3.9/site-packages/neo4j/io/__init__.py:318\u001b[0m, in \u001b[0;36mBolt.open\u001b[0;34m(cls, address, auth, timeout, routing_context, **pool_config)\u001b[0m\n\u001b[1;32m    <a href='file:///opt/anaconda3/envs/neo4j/lib/python3.9/site-packages/neo4j/io/__init__.py?line=305'>306</a>\u001b[0m \u001b[39m\"\"\" Open a new Bolt connection to a given server address.\u001b[39;00m\n\u001b[1;32m    <a href='file:///opt/anaconda3/envs/neo4j/lib/python3.9/site-packages/neo4j/io/__init__.py?line=306'>307</a>\u001b[0m \n\u001b[1;32m    <a href='file:///opt/anaconda3/envs/neo4j/lib/python3.9/site-packages/neo4j/io/__init__.py?line=307'>308</a>\u001b[0m \u001b[39m:param address:\u001b[39;00m\n\u001b[0;32m   (...)\u001b[0m\n\u001b[1;32m    <a href='file:///opt/anaconda3/envs/neo4j/lib/python3.9/site-packages/neo4j/io/__init__.py?line=314'>315</a>\u001b[0m \u001b[39m:raise ServiceUnavailable: raised if there was a connection issue.\u001b[39;00m\n\u001b[1;32m    <a href='file:///opt/anaconda3/envs/neo4j/lib/python3.9/site-packages/neo4j/io/__init__.py?line=315'>316</a>\u001b[0m \u001b[39m\"\"\"\u001b[39;00m\n\u001b[1;32m    <a href='file:///opt/anaconda3/envs/neo4j/lib/python3.9/site-packages/neo4j/io/__init__.py?line=316'>317</a>\u001b[0m pool_config \u001b[39m=\u001b[39m PoolConfig\u001b[39m.\u001b[39mconsume(pool_config)\n\u001b[0;32m--> <a href='file:///opt/anaconda3/envs/neo4j/lib/python3.9/site-packages/neo4j/io/__init__.py?line=317'>318</a>\u001b[0m s, pool_config\u001b[39m.\u001b[39mprotocol_version, handshake, data \u001b[39m=\u001b[39m connect(\n\u001b[1;32m    <a href='file:///opt/anaconda3/envs/neo4j/lib/python3.9/site-packages/neo4j/io/__init__.py?line=318'>319</a>\u001b[0m     address,\n\u001b[1;32m    <a href='file:///opt/anaconda3/envs/neo4j/lib/python3.9/site-packages/neo4j/io/__init__.py?line=319'>320</a>\u001b[0m     timeout\u001b[39m=\u001b[39;49mtimeout,\n\u001b[1;32m    <a href='file:///opt/anaconda3/envs/neo4j/lib/python3.9/site-packages/neo4j/io/__init__.py?line=320'>321</a>\u001b[0m     custom_resolver\u001b[39m=\u001b[39;49mpool_config\u001b[39m.\u001b[39;49mresolver,\n\u001b[1;32m    <a href='file:///opt/anaconda3/envs/neo4j/lib/python3.9/site-packages/neo4j/io/__init__.py?line=321'>322</a>\u001b[0m     ssl_context\u001b[39m=\u001b[39;49mpool_config\u001b[39m.\u001b[39;49mget_ssl_context(),\n\u001b[1;32m    <a href='file:///opt/anaconda3/envs/neo4j/lib/python3.9/site-packages/neo4j/io/__init__.py?line=322'>323</a>\u001b[0m     keep_alive\u001b[39m=\u001b[39;49mpool_config\u001b[39m.\u001b[39;49mkeep_alive,\n\u001b[1;32m    <a href='file:///opt/anaconda3/envs/neo4j/lib/python3.9/site-packages/neo4j/io/__init__.py?line=323'>324</a>\u001b[0m )\n\u001b[1;32m    <a href='file:///opt/anaconda3/envs/neo4j/lib/python3.9/site-packages/neo4j/io/__init__.py?line=325'>326</a>\u001b[0m \u001b[39m# Carry out Bolt subclass imports locally to avoid circular dependency\u001b[39;00m\n\u001b[1;32m    <a href='file:///opt/anaconda3/envs/neo4j/lib/python3.9/site-packages/neo4j/io/__init__.py?line=326'>327</a>\u001b[0m \u001b[39m# issues.\u001b[39;00m\n\u001b[1;32m    <a href='file:///opt/anaconda3/envs/neo4j/lib/python3.9/site-packages/neo4j/io/__init__.py?line=327'>328</a>\u001b[0m \u001b[39mif\u001b[39;00m pool_config\u001b[39m.\u001b[39mprotocol_version \u001b[39m==\u001b[39m (\u001b[39m3\u001b[39m, \u001b[39m0\u001b[39m):\n",
      "File \u001b[0;32m/opt/anaconda3/envs/neo4j/lib/python3.9/site-packages/neo4j/io/__init__.py:1399\u001b[0m, in \u001b[0;36mconnect\u001b[0;34m(address, timeout, custom_resolver, ssl_context, keep_alive)\u001b[0m\n\u001b[1;32m   <a href='file:///opt/anaconda3/envs/neo4j/lib/python3.9/site-packages/neo4j/io/__init__.py?line=1393'>1394</a>\u001b[0m     \u001b[39mraise\u001b[39;00m ServiceUnavailable(\n\u001b[1;32m   <a href='file:///opt/anaconda3/envs/neo4j/lib/python3.9/site-packages/neo4j/io/__init__.py?line=1394'>1395</a>\u001b[0m         \u001b[39m\"\u001b[39m\u001b[39mCouldn\u001b[39m\u001b[39m'\u001b[39m\u001b[39mt connect to \u001b[39m\u001b[39m%s\u001b[39;00m\u001b[39m (resolved to \u001b[39m\u001b[39m%s\u001b[39;00m\u001b[39m)\u001b[39m\u001b[39m\"\u001b[39m \u001b[39m%\u001b[39m (\n\u001b[1;32m   <a href='file:///opt/anaconda3/envs/neo4j/lib/python3.9/site-packages/neo4j/io/__init__.py?line=1395'>1396</a>\u001b[0m             \u001b[39mstr\u001b[39m(address), \u001b[39mtuple\u001b[39m(\u001b[39mmap\u001b[39m(\u001b[39mstr\u001b[39m, resolved_addresses)))\n\u001b[1;32m   <a href='file:///opt/anaconda3/envs/neo4j/lib/python3.9/site-packages/neo4j/io/__init__.py?line=1396'>1397</a>\u001b[0m     )\n\u001b[1;32m   <a href='file:///opt/anaconda3/envs/neo4j/lib/python3.9/site-packages/neo4j/io/__init__.py?line=1397'>1398</a>\u001b[0m \u001b[39melse\u001b[39;00m:\n\u001b[0;32m-> <a href='file:///opt/anaconda3/envs/neo4j/lib/python3.9/site-packages/neo4j/io/__init__.py?line=1398'>1399</a>\u001b[0m     \u001b[39mraise\u001b[39;00m ServiceUnavailable(\n\u001b[1;32m   <a href='file:///opt/anaconda3/envs/neo4j/lib/python3.9/site-packages/neo4j/io/__init__.py?line=1399'>1400</a>\u001b[0m         \u001b[39m\"\u001b[39m\u001b[39mCouldn\u001b[39m\u001b[39m'\u001b[39m\u001b[39mt connect to \u001b[39m\u001b[39m%s\u001b[39;00m\u001b[39m (resolved to \u001b[39m\u001b[39m%s\u001b[39;00m\u001b[39m):\u001b[39m\u001b[39m\\n\u001b[39;00m\u001b[39m%s\u001b[39;00m\u001b[39m\"\u001b[39m \u001b[39m%\u001b[39m (\n\u001b[1;32m   <a href='file:///opt/anaconda3/envs/neo4j/lib/python3.9/site-packages/neo4j/io/__init__.py?line=1400'>1401</a>\u001b[0m             \u001b[39mstr\u001b[39m(address), \u001b[39mtuple\u001b[39m(\u001b[39mmap\u001b[39m(\u001b[39mstr\u001b[39m, resolved_addresses)),\n\u001b[1;32m   <a href='file:///opt/anaconda3/envs/neo4j/lib/python3.9/site-packages/neo4j/io/__init__.py?line=1401'>1402</a>\u001b[0m             \u001b[39m\"\u001b[39m\u001b[39m\\n\u001b[39;00m\u001b[39m\"\u001b[39m\u001b[39m.\u001b[39mjoin(\u001b[39mmap\u001b[39m(\u001b[39mstr\u001b[39m, errors))\n\u001b[1;32m   <a href='file:///opt/anaconda3/envs/neo4j/lib/python3.9/site-packages/neo4j/io/__init__.py?line=1402'>1403</a>\u001b[0m         )\n\u001b[1;32m   <a href='file:///opt/anaconda3/envs/neo4j/lib/python3.9/site-packages/neo4j/io/__init__.py?line=1403'>1404</a>\u001b[0m     ) \u001b[39mfrom\u001b[39;00m \u001b[39merrors\u001b[39;00m[\u001b[39m0\u001b[39m]\n",
      "\u001b[0;31mServiceUnavailable\u001b[0m: Couldn't connect to 52.6.70.195:7687 (resolved to ('52.6.70.195:7687',)):\nTimed out trying to establish connection to ResolvedIPv4Address(('52.6.70.195', 7687))"
     ]
    }
   ],
   "source": [
    "cypher_query = '''\n",
    "Match (n)\n",
    "DETACH DELETE n\n",
    "'''\n",
    "results = session.run(cypher_query)"
   ]
  },
  {
   "cell_type": "code",
   "execution_count": null,
   "id": "2e287bb8",
   "metadata": {},
   "outputs": [],
   "source": [
    "# Make Figure 1\n",
    "cypher_query = '''\n",
    "//Patient\n",
    "create (peter:Subject:User:Primitive\n",
    "{name:'Peter'})-[:HAS_ATTR]->(patient:Role:Attribute {name:'Patient'})\n",
    "\n",
    "//Doctor & Nurses\n",
    "create (joe:Subject:User:Primitive {name:\"Joe\"})-[:HAS_ATTR]->(nurse:Role:Attribute {name:\"Nurse\"})\n",
    "create (john:Subject:User:Primitive {name:'John'})-[:HAS_ATTR]->(doctor:Role:Attribute {name:\"Doctor\"})\n",
    "merge (john)-[:HAS_ATTR]->(staff:Group:Attribute {name:'Hospital Staff'})<-[:HAS_ATTR]-(joe)\n",
    "merge (sue:Subject:User:Primitive {name: \"Sue\"})-[:HAS_ATTR]->(doctor)\n",
    "merge (sue)-[:HAS_ATTR]->(pClinic:Relationship:Attribute {name: \"Peter's Family Clinic\"})\n",
    "\n",
    "//Peter's digital assets\n",
    "merge (peter)-[:OWNER_OF]->(pRecs:Group:Attribute {name: \"Peter's Medical Records\"})<-[:HAS_ATTR]-(rec:Record:Object:Primitive {name:\"MR_1234\"})\n",
    "merge (pRecs)-[:HAS_ATTR]->(hRecs:Group:Attribute {name:'Hospital Records'})\n",
    "merge (peter)-[:OWNER_OF]->(prof:Data:Object {name:\"Peter's Profile\"})-[:HAS_ATTR]->(pp:Group:Attribute {name:'Hospital Profiles'})\n",
    "\n",
    "//Actions\n",
    "merge (read:Action {name:'Read'})-[:HAS_ATTR]->(fullAccess:Attribute:Group {name:\"Full Access\"})<-[:HAS_ATTR]-(write:Action {name:'Write'});\n",
    "'''\n",
    "results = session.run(cypher_query)"
   ]
  },
  {
   "cell_type": "code",
   "execution_count": null,
   "id": "aebb6e30",
   "metadata": {},
   "outputs": [],
   "source": [
    "# Make Figure 2\n",
    "cypher_query = '''\n",
    "// Policy 1 - Permit; Hospital Staff, Full Access, Patient Profile\n",
    "match (sub:Attribute {name:\"Hospital Staff\"}), (obj:Attribute \n",
    "{name:\"Hospital Profiles\"}), (act:Attribute {name:\"Full Access\"})\n",
    "create (pol:Policy {name:'Policy1', decision:\"Permit\"})\n",
    "merge (pol)<-[:SUB_CON]-(sub)\n",
    "merge (pol)<-[:OBJ_CON]-(obj)\n",
    "merge (pol)<-[:ACT_CON]-(act);\n",
    "'''\n",
    "results = session.run(cypher_query)"
   ]
  },
  {
   "cell_type": "code",
   "execution_count": null,
   "id": "a9430c89",
   "metadata": {},
   "outputs": [],
   "source": [
    "# Making Figure 2 cont..\n",
    "\n",
    "cypher_query = '''\n",
    "// Policy 2 - Permit: Doctor & Hospital Staff, Full Access, Hospital Records\n",
    "match (sub1: Attribute {name:\"Hospital Staff\"}), (sub2:Attribute \n",
    "{name:\"Doctor\"}), (obj:Attribute {name:\"Hospital Records\"}), (act:Attribute {name:\"Full Access\"})\n",
    "create (pol:Policy {name:\"Policy2\", decision:\"Permit\"})\n",
    "merge (pol)<-[:SUB_CON]-(sub1)\n",
    "merge (pol)<-[:SUB_CON]-(sub2)\n",
    "merge (pol)<-[:OBJ_CON]-(obj)\n",
    "merge (pol)<-[:ACT_CON]-(act);\n",
    "'''\n",
    "results = session.run(cypher_query)"
   ]
  },
  {
   "cell_type": "code",
   "execution_count": null,
   "id": "a58dd222",
   "metadata": {},
   "outputs": [],
   "source": [
    "# Making Figure 2 cont..\n",
    "\n",
    "cypher_query = '''\n",
    "// Policy 3 - Permit: Doctor & Peter's Family Clinic, Read, Peter's Medical Records\n",
    "match (sub2:Attribute {name:\"Doctor\"}), (act:Action {name:\"Read\"}), (obj:Attribute {name:\"Peter's Medical Records\"}), (sub1:Attribute {name:\"Peter's Family Clinic\"})\n",
    "create (pol:Policy {name:\"Policy3\", decision:\"Permit\"})\n",
    "merge (pol)<-[:OBJ_CON]-(obj)\n",
    "merge (pol)<-[:SUB_CON]-(sub2)\n",
    "merge (pol)<-[:SUB_CON]-(sub1)\n",
    "merge (pol)<-[:ACT_CON]-(act);\n",
    "'''\n",
    "results = session.run(cypher_query)"
   ]
  },
  {
   "cell_type": "code",
   "execution_count": null,
   "id": "b9f06e87",
   "metadata": {},
   "outputs": [],
   "source": [
    "cypher_query = '''\n",
    "match (sub)-[:HAS_ATTR*0..10]->(sc)-[:SUB_CON]->(pol:Policy)\n",
    "with pol, size(collect(distinct sc)) as sat_cons\n",
    "match (pol)<-[:SUB_CON]-(rc)\n",
    "with pol, sat_cons, size(collect(rc)) as req_cons where req_cons = sat_cons\n",
    "match (obj)-[:HAS_ATTR*0..2]->(sc)-[:OBJ_CON]->(pol)\n",
    "with pol, size(collect(distinct sc)) as sat_cons\n",
    "match (pol)<-[:OBJ_CON]-(rc)\n",
    "with pol, sat_cons, size(collect(rc)) as req_cons where req_cons = sat_cons\n",
    "match (act)-[:HAS_ATTR*0..10]->(sc)-[:ACT_CON]->(pol) with pol, size(collect(distinct sc)) as sat_cons match (pol)<-[:ACT_CON]-(rc)\n",
    "with pol, sat_cons, size(collect(rc)) as req_cons where req_cons = sat_cons\n",
    "return pol as matching_policies\n",
    "'''\n",
    "results = session.run(cypher_query)"
   ]
  },
  {
   "cell_type": "code",
   "execution_count": null,
   "id": "da58cf7e",
   "metadata": {},
   "outputs": [
    {
     "name": "stdout",
     "output_type": "stream",
     "text": [
      "<Node id=17 labels=frozenset({'Policy'}) properties={'decision': 'Permit', 'name': 'Policy1'}>\n",
      "<Node id=18 labels=frozenset({'Policy'}) properties={'decision': 'Permit', 'name': 'Policy2'}>\n",
      "<Node id=19 labels=frozenset({'Policy'}) properties={'decision': 'Permit', 'name': 'Policy3'}>\n"
     ]
    }
   ],
   "source": [
    "for line in results:\n",
    "    print(line['matching_policies'])"
   ]
  },
  {
   "cell_type": "markdown",
   "id": "e99dbdf4",
   "metadata": {},
   "source": [
    "## From here on this doesn't work"
   ]
  },
  {
   "cell_type": "code",
   "execution_count": null,
   "id": "929184d0",
   "metadata": {},
   "outputs": [],
   "source": [
    "# This is the policy search\n",
    "\n",
    "cypher_query = '''\n",
    ":params {\"JohnWriteMR_1234\": {\"SUBJECT_NAME\": \"John\", \"OBJECT_NAME\": \"MR_1234\", \"ACTION_NAME\": \"Write\"}}\n",
    "\n",
    "with $JohnWriteMR_1234 as req\n",
    "// Stage 1 - Subject Conditions\n",
    "match (sub:Subject {name:req.SUBJECT_NAME})-[:HAS_ATTR*0..5]->(sc)-[:SUB_CON]->(pol:Policy)\n",
    "with req, pol, size(collect(distinct sc)) as sat_cons\n",
    "match (pol)<-[:SUB_CON]-(rc)\n",
    "with req, pol, sat_cons, size(collect(rc)) as req_cons where req_cons = sat_cons \n",
    "\n",
    "// Stage 2 - Object Conditions\n",
    "match (obj:Object {name:req.OBJECT_NAME})-[:HAS_ATTR*0..5]->(sc)-[:OBJ_CON]->(pol) \n",
    "with req, pol, size(collect(distinct sc)) as sat_cons\n",
    "match (pol)<-[:OBJ_CON]-(rc)\n",
    "with req, pol, sat_cons, size(collect(rc)) as req_cons where req_cons = sat_cons \n",
    "\n",
    "// Stage 3 - Action Conditions\n",
    "match (act:Action {name:req.ACTION_NAME})-[:HAS_ATTR*0..5]->(sc)-[:ACT_CON]->(pol) \n",
    "with req, pol, size(collect(distinct sc)) as sat_cons\n",
    "match (pol)<-[:ACT_CON]-(rc)\n",
    "with req, pol, sat_cons, size(collect(rc)) as req_cons where req_cons = sat_cons \n",
    "return case when count(pol) = 0 or 'Deny' in collect(pol.decision) then 'Deny' else 'Permit' end as decision\n",
    "'''\n",
    "results = session.run(cypher_query)"
   ]
  },
  {
   "cell_type": "code",
   "execution_count": null,
   "id": "c31398e7",
   "metadata": {},
   "outputs": [
    {
     "name": "stdout",
     "output_type": "stream",
     "text": [
      "<Record decision='Permit'>\n"
     ]
    }
   ],
   "source": [
    "# See if John has full access\n",
    "\n",
    "JohnWriteMR_1234 = {\"SUBJECT_NAME\": \"John\",\"OBJECT_NAME\": \"MR_1234\", \"ACTION_NAME\":\"Write\"}\n",
    "cypher_query = '''\n",
    "with $JohnWriteMR_1234 as req\n",
    "// Stage 1 - Subject Conditions\n",
    "match (sub:Subject {name:req.SUBJECT_NAME})-[:HAS_ATTR*0..5]->(sc)-[:SUB_CON]->(pol:Policy)\n",
    "with req, pol, size(collect(distinct sc)) as sat_cons\n",
    "match (pol)<-[:SUB_CON]-(rc)\n",
    "with req, pol, sat_cons, size(collect(rc)) as req_cons where req_cons = sat_cons\n",
    "\n",
    "// Stage 2 - Object Conditions\n",
    "match (obj:Object {name:req.OBJECT_NAME})-[:HAS_ATTR*0..5]->(sc)-[:OBJ_CON]->(pol) \n",
    "with req, pol, size(collect(distinct sc)) as sat_cons\n",
    "match (pol)<-[:OBJ_CON]-(rc)\n",
    "with req, pol, sat_cons, size(collect(rc)) as req_cons where req_cons = sat_cons\n",
    "\n",
    "// Stage 3 - Action Conditions\n",
    "match (act:Action {name:req.ACTION_NAME})-[:HAS_ATTR*0..5]->(sc)-[:ACT_CON]->(pol) \n",
    "with req, pol, size(collect(distinct sc)) as sat_cons\n",
    "match (pol)<-[:ACT_CON]-(rc)\n",
    "with req, pol, sat_cons, size(collect(rc)) as req_cons where req_cons = sat_cons \n",
    "return case when count(pol) = 0 or 'Deny' in collect(pol.decision) then 'Deny' else 'Permit' end as decision\n",
    "'''\n",
    "results = session.run(cypher_query, JohnWriteMR_1234=JohnWriteMR_1234)\n",
    "for line in results:\n",
    "    print(line['decision'])"
   ]
  },
  {
   "cell_type": "code",
   "execution_count": null,
   "id": "3dd4bf27",
   "metadata": {},
   "outputs": [
    {
     "name": "stdout",
     "output_type": "stream",
     "text": [
      "<Record decision='Permit'>\n"
     ]
    }
   ],
   "source": [
    "# See if Sue can read\n",
    "\n",
    "\n",
    "SueReadMR_1234 = {\"SUBJECT_NAME\":\"Sue\", \"OBJECT_NAME\":\"MR_1234\", \"ACTION_NAME\":\"Read\"}\n",
    "cypher_query = '''\n",
    "with $SueReadMR_1234 as req\n",
    "// Stage 1 - Subject Conditions\n",
    "match (sub:Subject {name:req.SUBJECT_NAME})-[:HAS_ATTR*0..5]->(sc)-[:SUB_CON]->(pol:Policy)\n",
    "with req, pol, size(collect(distinct sc)) as sat_cons\n",
    "match (pol)<-[:SUB_CON]-(rc)\n",
    "with req, pol, sat_cons, size(collect(rc)) as req_cons where req_cons = sat_cons\n",
    "\n",
    "// Stage 2 - Object Conditions\n",
    "match (obj:Object {name:req.OBJECT_NAME})-[:HAS_ATTR*0..5]->(sc)-[:OBJ_CON]->(pol) \n",
    "with req, pol, size(collect(distinct sc)) as sat_cons\n",
    "match (pol)<-[:OBJ_CON]-(rc)\n",
    "with req, pol, sat_cons, size(collect(rc)) as req_cons where req_cons = sat_cons\n",
    "\n",
    "// Stage 3 - Action Conditions\n",
    "match (act:Action {name:req.ACTION_NAME})-[:HAS_ATTR*0..5]->(sc)-[:ACT_CON]->(pol) \n",
    "with req, pol, size(collect(distinct sc)) as sat_cons\n",
    "match (pol)<-[:ACT_CON]-(rc)\n",
    "with req, pol, sat_cons, size(collect(rc)) as req_cons where req_cons = sat_cons \n",
    "return case when count(pol) = 0 or 'Deny' in collect(pol.decision) then 'Deny' else 'Permit' end as decision\n",
    "'''\n",
    "results = session.run(cypher_query, SueReadMR_1234=SueReadMR_1234)\n",
    "for line in results:\n",
    "    print(line['decision'])"
   ]
  },
  {
   "cell_type": "code",
   "execution_count": null,
   "id": "66775072",
   "metadata": {},
   "outputs": [
    {
     "name": "stdout",
     "output_type": "stream",
     "text": [
      "Deny\n"
     ]
    }
   ],
   "source": [
    "# See if Sue has full access\n",
    "\n",
    "SueWriteMR_1234 = {\"SUBJECT_NAME\": \"Sue\", \"OBJECT_NAME\": \"MR_1234\", \"ACTION_NAME\": \"Write\"}\n",
    "cypher_query = '''\n",
    "with $SueWriteMR_1234 as req\n",
    "// Stage 1 - Subject Conditions\n",
    "match (sub:Subject {name:req.SUBJECT_NAME})-[:HAS_ATTR*0..5]->(sc)-[:SUB_CON]->(pol:Policy)\n",
    "with req, pol, size(collect(distinct sc)) as sat_cons\n",
    "match (pol)<-[:SUB_CON]-(rc)\n",
    "with req, pol, sat_cons, size(collect(rc)) as req_cons where req_cons = sat_cons\n",
    "\n",
    "// Stage 2 - Object Conditions\n",
    "match (obj:Object {name:req.OBJECT_NAME})-[:HAS_ATTR*0..5]->(sc)-[:OBJ_CON]->(pol) \n",
    "with req, pol, size(collect(distinct sc)) as sat_cons\n",
    "match (pol)<-[:OBJ_CON]-(rc)\n",
    "with req, pol, sat_cons, size(collect(rc)) as req_cons where req_cons = sat_cons\n",
    "\n",
    "// Stage 3 - Action Conditions\n",
    "match (act:Action {name:req.ACTION_NAME})-[:HAS_ATTR*0..5]->(sc)-[:ACT_CON]->(pol) \n",
    "with req, pol, size(collect(distinct sc)) as sat_cons\n",
    "match (pol)<-[:ACT_CON]-(rc)\n",
    "with req, pol, sat_cons, size(collect(rc)) as req_cons where req_cons = sat_cons \n",
    "return case when count(pol) = 0 or 'Deny' in collect(pol.decision) then 'Deny' else 'Permit' end as decision\n",
    "'''\n",
    "results = session.run(cypher_query, SueWriteMR_1234=SueWriteMR_1234)\n",
    "for line in results:\n",
    "    print(line['decision'])"
   ]
  },
  {
   "cell_type": "markdown",
   "id": "99888f1c",
   "metadata": {},
   "source": [
    "Testing for Development below:"
   ]
  },
  {
   "cell_type": "code",
   "execution_count": 2,
   "id": "ebb1e97c",
   "metadata": {},
   "outputs": [],
   "source": [
    "import requests\n",
    "\n",
    "user_id = 'u_TInitial00005'\n",
    "\n",
    "owned_teams_url = \"http://localhost:5000/api/v0/users/\" + str(user_id) + \"/teams/owned\"\n",
    "owned_teams = requests.get(owned_teams_url).json()"
   ]
  },
  {
   "cell_type": "code",
   "execution_count": 3,
   "id": "5de4373e",
   "metadata": {},
   "outputs": [
    {
     "data": {
      "text/plain": [
       "list"
      ]
     },
     "execution_count": 3,
     "metadata": {},
     "output_type": "execute_result"
    }
   ],
   "source": [
    "type(owned_teams)"
   ]
  },
  {
   "cell_type": "code",
   "execution_count": 4,
   "id": "8897927c",
   "metadata": {},
   "outputs": [
    {
     "data": {
      "text/plain": [
       "[{'tname': \"Mel's Group A\"}, {'tname': 'Exchange Lab'}]"
      ]
     },
     "execution_count": 4,
     "metadata": {},
     "output_type": "execute_result"
    }
   ],
   "source": [
    "owned_teams"
   ]
  },
  {
   "cell_type": "code",
   "execution_count": 9,
   "id": "883a3b24",
   "metadata": {},
   "outputs": [],
   "source": [
    "my_list = []\n",
    "for i in owned_teams:\n",
    "    my_list.append(i['tname'])"
   ]
  },
  {
   "cell_type": "code",
   "execution_count": 10,
   "id": "7f09cdc2",
   "metadata": {},
   "outputs": [
    {
     "data": {
      "text/plain": [
       "[\"Mel's Group A\", 'Exchange Lab']"
      ]
     },
     "execution_count": 10,
     "metadata": {},
     "output_type": "execute_result"
    }
   ],
   "source": [
    "my_list"
   ]
  },
  {
   "cell_type": "code",
   "execution_count": 8,
   "id": "93f45bca",
   "metadata": {},
   "outputs": [
    {
     "name": "stdout",
     "output_type": "stream",
     "text": [
      "[dict_values([\"Mel's Group A\"]), dict_values(['Exchange Lab'])]\n"
     ]
    }
   ],
   "source": [
    "print(my_list)"
   ]
  },
  {
   "cell_type": "code",
   "execution_count": null,
   "id": "4398151c",
   "metadata": {},
   "outputs": [],
   "source": []
  }
 ],
 "metadata": {
  "kernelspec": {
   "display_name": "Python 3",
   "language": "python",
   "name": "python3"
  },
  "language_info": {
   "codemirror_mode": {
    "name": "ipython",
    "version": 3
   },
   "file_extension": ".py",
   "mimetype": "text/x-python",
   "name": "python",
   "nbconvert_exporter": "python",
   "pygments_lexer": "ipython3",
   "version": "3.9.7"
  }
 },
 "nbformat": 4,
 "nbformat_minor": 5
}
