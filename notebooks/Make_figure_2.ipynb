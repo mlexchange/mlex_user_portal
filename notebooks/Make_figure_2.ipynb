{
 "cells": [
  {
   "cell_type": "code",
   "execution_count": 1,
   "id": "02e46e48",
   "metadata": {},
   "outputs": [],
   "source": [
    "from neo4j import GraphDatabase, basic_auth\n",
    "\n",
    "driver = GraphDatabase.driver(\n",
    "  \"bolt://52.6.70.195:7687\",\n",
    "  auth=basic_auth(\"neo4j\", \"rank-composition-bomb\"))\n",
    "session = driver.session()"
   ]
  },
  {
   "cell_type": "code",
   "execution_count": 2,
   "id": "5df3852a",
   "metadata": {},
   "outputs": [],
   "source": [
    "cypher_query = '''\n",
    "Match (n)\n",
    "DETACH DELETE n\n",
    "'''\n",
    "results = session.run(cypher_query)"
   ]
  },
  {
   "cell_type": "code",
   "execution_count": 3,
   "id": "2e287bb8",
   "metadata": {},
   "outputs": [],
   "source": [
    "# Make Figure 1\n",
    "cypher_query = '''\n",
    "//Patient\n",
    "create (peter:Subject:User:Primitive\n",
    "{name:'Peter'})-[:HAS_ATTR]->(patient:Role:Attribute {name:'Patient'})\n",
    "\n",
    "//Doctor & Nurses\n",
    "create (joe:Subject:User:Primitive {name:\"Joe\"})-[:HAS_ATTR]->(nurse:Role:Attribute {name:\"Nurse\"})\n",
    "create (john:Subject:User:Primitive {name:'John'})-[:HAS_ATTR]->(doctor:Role:Attribute {name:\"Doctor\"})\n",
    "merge (john)-[:HAS_ATTR]->(staff:Group:Attribute {name:'Hospital Staff'})<-[:HAS_ATTR]-(joe)\n",
    "merge (sue:Subject:User:Primitive {name: \"Sue\"})-[:HAS_ATTR]->(doctor)\n",
    "merge (sue)-[:HAS_ATTR]->(pClinic:Relationship:Attribute {name: \"Peter's Family Clinic\"})\n",
    "\n",
    "//Peter's digital assets\n",
    "merge (peter)-[:OWNER_OF]->(pRecs:Group:Attribute {name: \"Peter's Medical Records\"})<-[:HAS_ATTR]-(rec:Record:Object:Primitive {name:\"MR_1234\"})\n",
    "merge (pRecs)-[:HAS_ATTR]->(hRecs:Group:Attribute {name:'Hospital Records'})\n",
    "merge (peter)-[:OWNER_OF]->(prof:Data:Object {name:\"Peter's Profile\"})-[:HAS_ATTR]->(pp:Group:Attribute {name:'Hospital Profiles'})\n",
    "\n",
    "//Actions\n",
    "merge (read:Action {name:'Read'})-[:HAS_ATTR]->(fullAccess:Attribute:Group {name:\"Full Access\"})<-[:HAS_ATTR]-(write:Action {name:'Write'});\n",
    "'''\n",
    "results = session.run(cypher_query)"
   ]
  },
  {
   "cell_type": "code",
   "execution_count": 4,
   "id": "aebb6e30",
   "metadata": {},
   "outputs": [],
   "source": [
    "# Make Figure 2\n",
    "cypher_query = '''\n",
    "// Policy 1 - Permit; Hospital Staff, Full Access, Patient Profile\n",
    "match (sub:Attribute {name:\"Hospital Staff\"}), (obj:Attribute \n",
    "{name:\"Hospital Profiles\"}), (act:Attribute {name:\"Full Access\"})\n",
    "create (pol:Policy {name:'Policy1', decision:\"Permit\"})\n",
    "merge (pol)<-[:SUB_CON]-(sub)\n",
    "merge (pol)<-[:OBJ_CON]-(obj)\n",
    "merge (pol)<-[:ACT_CON]-(act);\n",
    "'''\n",
    "results = session.run(cypher_query)"
   ]
  },
  {
   "cell_type": "code",
   "execution_count": 5,
   "id": "a9430c89",
   "metadata": {},
   "outputs": [],
   "source": [
    "# Making Figure 2 cont..\n",
    "\n",
    "cypher_query = '''\n",
    "// Policy 2 - Permit: Doctor & Hospital Staff, Full Access, Hospital Records\n",
    "match (sub1: Attribute {name:\"Hospital Staff\"}), (sub2:Attribute \n",
    "{name:\"Doctor\"}), (obj:Attribute {name:\"Hospital Records\"}), (act:Attribute {name:\"Full Access\"})\n",
    "create (pol:Policy {name:\"Policy2\", decision:\"Permit\"})\n",
    "merge (pol)<-[:SUB_CON]-(sub1)\n",
    "merge (pol)<-[:SUB_CON]-(sub2)\n",
    "merge (pol)<-[:OBJ_CON]-(obj)\n",
    "merge (pol)<-[:ACT_CON]-(act);\n",
    "'''\n",
    "results = session.run(cypher_query)"
   ]
  },
  {
   "cell_type": "code",
   "execution_count": 6,
   "id": "a58dd222",
   "metadata": {},
   "outputs": [],
   "source": [
    "# Making Figure 2 cont..\n",
    "\n",
    "cypher_query = '''\n",
    "// Policy 3 - Permit: Doctor & Peter's Family Clinic, Read, Peter's Medical Records\n",
    "match (sub2:Attribute {name:\"Doctor\"}), (act:Action {name:\"Read\"}), (obj:Attribute {name:\"Peter's Medical Records\"}), (sub1:Attribute {name:\"Peter's Family Clinic\"})\n",
    "create (pol:Policy {name:\"Policy3\", decision:\"Permit\"})\n",
    "merge (pol)<-[:OBJ_CON]-(obj)\n",
    "merge (pol)<-[:SUB_CON]-(sub2)\n",
    "merge (pol)<-[:SUB_CON]-(sub1)\n",
    "merge (pol)<-[:ACT_CON]-(act);\n",
    "'''\n",
    "results = session.run(cypher_query)"
   ]
  },
  {
   "cell_type": "code",
   "execution_count": 28,
   "id": "b9f06e87",
   "metadata": {},
   "outputs": [],
   "source": [
    "cypher_query = '''\n",
    "match (sub)-[:HAS_ATTR*0..10]->(sc)-[:SUB_CON]->(pol:Policy)\n",
    "with pol, size(collect(distinct sc)) as sat_cons\n",
    "match (pol)<-[:SUB_CON]-(rc)\n",
    "with pol, sat_cons, size(collect(rc)) as req_cons where req_cons = sat_cons\n",
    "match (obj)-[:HAS_ATTR*0..2]->(sc)-[:OBJ_CON]->(pol)\n",
    "with pol, size(collect(distinct sc)) as sat_cons\n",
    "match (pol)<-[:OBJ_CON]-(rc)\n",
    "with pol, sat_cons, size(collect(rc)) as req_cons where req_cons = sat_cons\n",
    "match (act)-[:HAS_ATTR*0..10]->(sc)-[:ACT_CON]->(pol) with pol, size(collect(distinct sc)) as sat_cons match (pol)<-[:ACT_CON]-(rc)\n",
    "with pol, sat_cons, size(collect(rc)) as req_cons where req_cons = sat_cons\n",
    "return pol as matching_policies\n",
    "\n",
    "'''\n",
    "results = session.run(cypher_query)"
   ]
  },
  {
   "cell_type": "code",
   "execution_count": null,
   "id": "9cce04c3",
   "metadata": {},
   "outputs": [],
   "source": [
    "for line in results:\n",
    "    print(line)"
   ]
  },
  {
   "cell_type": "markdown",
   "id": "7c1f6ab8",
   "metadata": {},
   "source": [
    "## From here on this doesn't work"
   ]
  },
  {
   "cell_type": "code",
   "execution_count": 23,
   "id": "05a8f1d4",
   "metadata": {},
   "outputs": [
    {
     "ename": "CypherSyntaxError",
     "evalue": "{code: Neo.ClientError.Statement.SyntaxError} {message: Invalid input ':': expected <init> (line 2, column 1 (offset: 1))\n\":params {\"JohnWriteMR_1234\": {\"SUBJECT_NAME\":\"John\",\"OBJECT_NAME\": \"MR_1234\", \"ACTION_NAME\":\"Write\"}, \"SueReadMR_1234\": {\"SUBJECT_NAME\":\"Sue\", \"OBJECT_NAME\":\"MR_1234\", \"ACTION_NAME\":\"Read\"}, \"SueWriteMR_1234\": {\"SUBJECT_NAME\": \"Sue\", \"OBJECT_NAME\": \"MR_1234\", \"ACTION_NAME\": \"Write\"}}\"\n ^}",
     "output_type": "error",
     "traceback": [
      "\u001b[0;31m---------------------------------------------------------------------------\u001b[0m",
      "\u001b[0;31mCypherSyntaxError\u001b[0m                         Traceback (most recent call last)",
      "\u001b[0;32m<ipython-input-23-96a02ea31c5c>\u001b[0m in \u001b[0;36m<module>\u001b[0;34m\u001b[0m\n\u001b[1;32m      3\u001b[0m '''\n\u001b[1;32m      4\u001b[0m \u001b[0;34m\u001b[0m\u001b[0m\n\u001b[0;32m----> 5\u001b[0;31m \u001b[0mresults\u001b[0m \u001b[0;34m=\u001b[0m \u001b[0msession\u001b[0m\u001b[0;34m.\u001b[0m\u001b[0mrun\u001b[0m\u001b[0;34m(\u001b[0m\u001b[0mcypher_query\u001b[0m\u001b[0;34m)\u001b[0m\u001b[0;34m\u001b[0m\u001b[0;34m\u001b[0m\u001b[0m\n\u001b[0m",
      "\u001b[0;32m~/anaconda3/lib/python3.8/site-packages/neo4j/work/simple.py\u001b[0m in \u001b[0;36mrun\u001b[0;34m(self, query, parameters, **kwparameters)\u001b[0m\n\u001b[1;32m    213\u001b[0m             \u001b[0mself\u001b[0m\u001b[0;34m.\u001b[0m\u001b[0m_result_error\u001b[0m\u001b[0;34m\u001b[0m\u001b[0;34m\u001b[0m\u001b[0m\n\u001b[1;32m    214\u001b[0m         )\n\u001b[0;32m--> 215\u001b[0;31m         self._autoResult._run(\n\u001b[0m\u001b[1;32m    216\u001b[0m             \u001b[0mquery\u001b[0m\u001b[0;34m,\u001b[0m \u001b[0mparameters\u001b[0m\u001b[0;34m,\u001b[0m \u001b[0mself\u001b[0m\u001b[0;34m.\u001b[0m\u001b[0m_config\u001b[0m\u001b[0;34m.\u001b[0m\u001b[0mdatabase\u001b[0m\u001b[0;34m,\u001b[0m\u001b[0;34m\u001b[0m\u001b[0;34m\u001b[0m\u001b[0m\n\u001b[1;32m    217\u001b[0m             \u001b[0mself\u001b[0m\u001b[0;34m.\u001b[0m\u001b[0m_config\u001b[0m\u001b[0;34m.\u001b[0m\u001b[0mimpersonated_user\u001b[0m\u001b[0;34m,\u001b[0m \u001b[0mself\u001b[0m\u001b[0;34m.\u001b[0m\u001b[0m_config\u001b[0m\u001b[0;34m.\u001b[0m\u001b[0mdefault_access_mode\u001b[0m\u001b[0;34m,\u001b[0m\u001b[0;34m\u001b[0m\u001b[0;34m\u001b[0m\u001b[0m\n",
      "\u001b[0;32m~/anaconda3/lib/python3.8/site-packages/neo4j/work/result.py\u001b[0m in \u001b[0;36m_run\u001b[0;34m(self, query, parameters, db, imp_user, access_mode, bookmarks, **kwparameters)\u001b[0m\n\u001b[1;32m    112\u001b[0m         \u001b[0mself\u001b[0m\u001b[0;34m.\u001b[0m\u001b[0m_pull\u001b[0m\u001b[0;34m(\u001b[0m\u001b[0;34m)\u001b[0m\u001b[0;34m\u001b[0m\u001b[0;34m\u001b[0m\u001b[0m\n\u001b[1;32m    113\u001b[0m         \u001b[0mself\u001b[0m\u001b[0;34m.\u001b[0m\u001b[0m_connection\u001b[0m\u001b[0;34m.\u001b[0m\u001b[0msend_all\u001b[0m\u001b[0;34m(\u001b[0m\u001b[0;34m)\u001b[0m\u001b[0;34m\u001b[0m\u001b[0;34m\u001b[0m\u001b[0m\n\u001b[0;32m--> 114\u001b[0;31m         \u001b[0mself\u001b[0m\u001b[0;34m.\u001b[0m\u001b[0m_attach\u001b[0m\u001b[0;34m(\u001b[0m\u001b[0;34m)\u001b[0m\u001b[0;34m\u001b[0m\u001b[0;34m\u001b[0m\u001b[0m\n\u001b[0m\u001b[1;32m    115\u001b[0m \u001b[0;34m\u001b[0m\u001b[0m\n\u001b[1;32m    116\u001b[0m     \u001b[0;32mdef\u001b[0m \u001b[0m_pull\u001b[0m\u001b[0;34m(\u001b[0m\u001b[0mself\u001b[0m\u001b[0;34m)\u001b[0m\u001b[0;34m:\u001b[0m\u001b[0;34m\u001b[0m\u001b[0;34m\u001b[0m\u001b[0m\n",
      "\u001b[0;32m~/anaconda3/lib/python3.8/site-packages/neo4j/work/result.py\u001b[0m in \u001b[0;36m_attach\u001b[0;34m(self)\u001b[0m\n\u001b[1;32m    201\u001b[0m         \u001b[0;32mif\u001b[0m \u001b[0mself\u001b[0m\u001b[0;34m.\u001b[0m\u001b[0m_closed\u001b[0m \u001b[0;32mis\u001b[0m \u001b[0;32mFalse\u001b[0m\u001b[0;34m:\u001b[0m\u001b[0;34m\u001b[0m\u001b[0;34m\u001b[0m\u001b[0m\n\u001b[1;32m    202\u001b[0m             \u001b[0;32mwhile\u001b[0m \u001b[0mself\u001b[0m\u001b[0;34m.\u001b[0m\u001b[0m_attached\u001b[0m \u001b[0;32mis\u001b[0m \u001b[0;32mFalse\u001b[0m\u001b[0;34m:\u001b[0m\u001b[0;34m\u001b[0m\u001b[0;34m\u001b[0m\u001b[0m\n\u001b[0;32m--> 203\u001b[0;31m                 \u001b[0mself\u001b[0m\u001b[0;34m.\u001b[0m\u001b[0m_connection\u001b[0m\u001b[0;34m.\u001b[0m\u001b[0mfetch_message\u001b[0m\u001b[0;34m(\u001b[0m\u001b[0;34m)\u001b[0m\u001b[0;34m\u001b[0m\u001b[0;34m\u001b[0m\u001b[0m\n\u001b[0m\u001b[1;32m    204\u001b[0m \u001b[0;34m\u001b[0m\u001b[0m\n\u001b[1;32m    205\u001b[0m     \u001b[0;32mdef\u001b[0m \u001b[0m_buffer\u001b[0m\u001b[0;34m(\u001b[0m\u001b[0mself\u001b[0m\u001b[0;34m,\u001b[0m \u001b[0mn\u001b[0m\u001b[0;34m=\u001b[0m\u001b[0;32mNone\u001b[0m\u001b[0;34m)\u001b[0m\u001b[0;34m:\u001b[0m\u001b[0;34m\u001b[0m\u001b[0;34m\u001b[0m\u001b[0m\n",
      "\u001b[0;32m~/anaconda3/lib/python3.8/site-packages/neo4j/io/_common.py\u001b[0m in \u001b[0;36minner\u001b[0;34m(*args, **kwargs)\u001b[0m\n\u001b[1;32m    165\u001b[0m             \u001b[0;32mdef\u001b[0m \u001b[0minner\u001b[0m\u001b[0;34m(\u001b[0m\u001b[0;34m*\u001b[0m\u001b[0margs\u001b[0m\u001b[0;34m,\u001b[0m \u001b[0;34m**\u001b[0m\u001b[0mkwargs\u001b[0m\u001b[0;34m)\u001b[0m\u001b[0;34m:\u001b[0m\u001b[0;34m\u001b[0m\u001b[0;34m\u001b[0m\u001b[0m\n\u001b[1;32m    166\u001b[0m                 \u001b[0;32mtry\u001b[0m\u001b[0;34m:\u001b[0m\u001b[0;34m\u001b[0m\u001b[0;34m\u001b[0m\u001b[0m\n\u001b[0;32m--> 167\u001b[0;31m                     \u001b[0mfunc\u001b[0m\u001b[0;34m(\u001b[0m\u001b[0;34m*\u001b[0m\u001b[0margs\u001b[0m\u001b[0;34m,\u001b[0m \u001b[0;34m**\u001b[0m\u001b[0mkwargs\u001b[0m\u001b[0;34m)\u001b[0m\u001b[0;34m\u001b[0m\u001b[0;34m\u001b[0m\u001b[0m\n\u001b[0m\u001b[1;32m    168\u001b[0m                 \u001b[0;32mexcept\u001b[0m \u001b[0;34m(\u001b[0m\u001b[0mNeo4jError\u001b[0m\u001b[0;34m,\u001b[0m \u001b[0mServiceUnavailable\u001b[0m\u001b[0;34m,\u001b[0m \u001b[0mSessionExpired\u001b[0m\u001b[0;34m)\u001b[0m \u001b[0;32mas\u001b[0m \u001b[0mexc\u001b[0m\u001b[0;34m:\u001b[0m\u001b[0;34m\u001b[0m\u001b[0;34m\u001b[0m\u001b[0m\n\u001b[1;32m    169\u001b[0m                     \u001b[0mself\u001b[0m\u001b[0;34m.\u001b[0m\u001b[0m__on_error\u001b[0m\u001b[0;34m(\u001b[0m\u001b[0mexc\u001b[0m\u001b[0;34m)\u001b[0m\u001b[0;34m\u001b[0m\u001b[0;34m\u001b[0m\u001b[0m\n",
      "\u001b[0;32m~/anaconda3/lib/python3.8/site-packages/neo4j/io/_bolt4.py\u001b[0m in \u001b[0;36mfetch_message\u001b[0;34m(self)\u001b[0m\n\u001b[1;32m    307\u001b[0m             \u001b[0mself\u001b[0m\u001b[0;34m.\u001b[0m\u001b[0m_server_state_manager\u001b[0m\u001b[0;34m.\u001b[0m\u001b[0mstate\u001b[0m \u001b[0;34m=\u001b[0m \u001b[0mServerStates\u001b[0m\u001b[0;34m.\u001b[0m\u001b[0mFAILED\u001b[0m\u001b[0;34m\u001b[0m\u001b[0;34m\u001b[0m\u001b[0m\n\u001b[1;32m    308\u001b[0m             \u001b[0;32mtry\u001b[0m\u001b[0;34m:\u001b[0m\u001b[0;34m\u001b[0m\u001b[0;34m\u001b[0m\u001b[0m\n\u001b[0;32m--> 309\u001b[0;31m                 \u001b[0mresponse\u001b[0m\u001b[0;34m.\u001b[0m\u001b[0mon_failure\u001b[0m\u001b[0;34m(\u001b[0m\u001b[0msummary_metadata\u001b[0m \u001b[0;32mor\u001b[0m \u001b[0;34m{\u001b[0m\u001b[0;34m}\u001b[0m\u001b[0;34m)\u001b[0m\u001b[0;34m\u001b[0m\u001b[0;34m\u001b[0m\u001b[0m\n\u001b[0m\u001b[1;32m    310\u001b[0m             \u001b[0;32mexcept\u001b[0m \u001b[0;34m(\u001b[0m\u001b[0mServiceUnavailable\u001b[0m\u001b[0;34m,\u001b[0m \u001b[0mDatabaseUnavailable\u001b[0m\u001b[0;34m)\u001b[0m\u001b[0;34m:\u001b[0m\u001b[0;34m\u001b[0m\u001b[0;34m\u001b[0m\u001b[0m\n\u001b[1;32m    311\u001b[0m                 \u001b[0;32mif\u001b[0m \u001b[0mself\u001b[0m\u001b[0;34m.\u001b[0m\u001b[0mpool\u001b[0m\u001b[0;34m:\u001b[0m\u001b[0;34m\u001b[0m\u001b[0;34m\u001b[0m\u001b[0m\n",
      "\u001b[0;32m~/anaconda3/lib/python3.8/site-packages/neo4j/io/_common.py\u001b[0m in \u001b[0;36mon_failure\u001b[0;34m(self, metadata)\u001b[0m\n\u001b[1;32m    223\u001b[0m         \u001b[0;32mif\u001b[0m \u001b[0mcallable\u001b[0m\u001b[0;34m(\u001b[0m\u001b[0mhandler\u001b[0m\u001b[0;34m)\u001b[0m\u001b[0;34m:\u001b[0m\u001b[0;34m\u001b[0m\u001b[0;34m\u001b[0m\u001b[0m\n\u001b[1;32m    224\u001b[0m             \u001b[0mhandler\u001b[0m\u001b[0;34m(\u001b[0m\u001b[0;34m)\u001b[0m\u001b[0;34m\u001b[0m\u001b[0;34m\u001b[0m\u001b[0m\n\u001b[0;32m--> 225\u001b[0;31m         \u001b[0;32mraise\u001b[0m \u001b[0mNeo4jError\u001b[0m\u001b[0;34m.\u001b[0m\u001b[0mhydrate\u001b[0m\u001b[0;34m(\u001b[0m\u001b[0;34m**\u001b[0m\u001b[0mmetadata\u001b[0m\u001b[0;34m)\u001b[0m\u001b[0;34m\u001b[0m\u001b[0;34m\u001b[0m\u001b[0m\n\u001b[0m\u001b[1;32m    226\u001b[0m \u001b[0;34m\u001b[0m\u001b[0m\n\u001b[1;32m    227\u001b[0m     \u001b[0;32mdef\u001b[0m \u001b[0mon_ignored\u001b[0m\u001b[0;34m(\u001b[0m\u001b[0mself\u001b[0m\u001b[0;34m,\u001b[0m \u001b[0mmetadata\u001b[0m\u001b[0;34m=\u001b[0m\u001b[0;32mNone\u001b[0m\u001b[0;34m)\u001b[0m\u001b[0;34m:\u001b[0m\u001b[0;34m\u001b[0m\u001b[0;34m\u001b[0m\u001b[0m\n",
      "\u001b[0;31mCypherSyntaxError\u001b[0m: {code: Neo.ClientError.Statement.SyntaxError} {message: Invalid input ':': expected <init> (line 2, column 1 (offset: 1))\n\":params {\"JohnWriteMR_1234\": {\"SUBJECT_NAME\":\"John\",\"OBJECT_NAME\": \"MR_1234\", \"ACTION_NAME\":\"Write\"}, \"SueReadMR_1234\": {\"SUBJECT_NAME\":\"Sue\", \"OBJECT_NAME\":\"MR_1234\", \"ACTION_NAME\":\"Read\"}, \"SueWriteMR_1234\": {\"SUBJECT_NAME\": \"Sue\", \"OBJECT_NAME\": \"MR_1234\", \"ACTION_NAME\": \"Write\"}}\"\n ^}"
     ]
    }
   ],
   "source": [
    "# Why this doesn't work\n",
    "\n",
    "cypher_query = '''\n",
    ":params {\"JohnWriteMR_1234\": {\"SUBJECT_NAME\":\"John\",\"OBJECT_NAME\": \"MR_1234\", \"ACTION_NAME\":\"Write\"}, \"SueReadMR_1234\": {\"SUBJECT_NAME\":\"Sue\", \"OBJECT_NAME\":\"MR_1234\", \"ACTION_NAME\":\"Read\"}, \"SueWriteMR_1234\": {\"SUBJECT_NAME\": \"Sue\", \"OBJECT_NAME\": \"MR_1234\", \"ACTION_NAME\": \"Write\"}}\n",
    "'''\n",
    "results = session.run(cypher_query)"
   ]
  },
  {
   "cell_type": "code",
   "execution_count": 26,
   "id": "adbfc4cb",
   "metadata": {},
   "outputs": [
    {
     "ename": "CypherSyntaxError",
     "evalue": "{code: Neo.ClientError.Statement.SyntaxError} {message: Invalid input ':': expected <init> (line 2, column 1 (offset: 1))\n\":params {\"JohnWriteMR_1234\": {\"SUBJECT_NAME\": \"John\", \"OBJECT_NAME\": \"MR_1234\", \"ACTION_NAME\": \"Write\"}}\"\n ^}",
     "output_type": "error",
     "traceback": [
      "\u001b[0;31m---------------------------------------------------------------------------\u001b[0m",
      "\u001b[0;31mCypherSyntaxError\u001b[0m                         Traceback (most recent call last)",
      "\u001b[0;32m<ipython-input-26-23dfd3d5dfbd>\u001b[0m in \u001b[0;36m<module>\u001b[0;34m\u001b[0m\n\u001b[1;32m     22\u001b[0m \u001b[0;32mreturn\u001b[0m \u001b[0mcase\u001b[0m \u001b[0mwhen\u001b[0m \u001b[0mcount\u001b[0m\u001b[0;34m(\u001b[0m\u001b[0mpol\u001b[0m\u001b[0;34m)\u001b[0m \u001b[0;34m=\u001b[0m \u001b[0;36m0\u001b[0m \u001b[0;32mor\u001b[0m \u001b[0;34m'Deny'\u001b[0m \u001b[0;32min\u001b[0m \u001b[0mcollect\u001b[0m\u001b[0;34m(\u001b[0m\u001b[0mpol\u001b[0m\u001b[0;34m.\u001b[0m\u001b[0mdecision\u001b[0m\u001b[0;34m)\u001b[0m \u001b[0mthen\u001b[0m \u001b[0;34m'Deny'\u001b[0m \u001b[0;32melse\u001b[0m \u001b[0;34m'Permit'\u001b[0m \u001b[0mend\u001b[0m \u001b[0;32mas\u001b[0m \u001b[0mdecision\u001b[0m\u001b[0;34m\u001b[0m\u001b[0;34m\u001b[0m\u001b[0m\n\u001b[1;32m     23\u001b[0m '''\n\u001b[0;32m---> 24\u001b[0;31m \u001b[0mresults\u001b[0m \u001b[0;34m=\u001b[0m \u001b[0msession\u001b[0m\u001b[0;34m.\u001b[0m\u001b[0mrun\u001b[0m\u001b[0;34m(\u001b[0m\u001b[0mcypher_query\u001b[0m\u001b[0;34m)\u001b[0m\u001b[0;34m\u001b[0m\u001b[0;34m\u001b[0m\u001b[0m\n\u001b[0m",
      "\u001b[0;32m~/anaconda3/lib/python3.8/site-packages/neo4j/work/simple.py\u001b[0m in \u001b[0;36mrun\u001b[0;34m(self, query, parameters, **kwparameters)\u001b[0m\n\u001b[1;32m    213\u001b[0m             \u001b[0mself\u001b[0m\u001b[0;34m.\u001b[0m\u001b[0m_result_error\u001b[0m\u001b[0;34m\u001b[0m\u001b[0;34m\u001b[0m\u001b[0m\n\u001b[1;32m    214\u001b[0m         )\n\u001b[0;32m--> 215\u001b[0;31m         self._autoResult._run(\n\u001b[0m\u001b[1;32m    216\u001b[0m             \u001b[0mquery\u001b[0m\u001b[0;34m,\u001b[0m \u001b[0mparameters\u001b[0m\u001b[0;34m,\u001b[0m \u001b[0mself\u001b[0m\u001b[0;34m.\u001b[0m\u001b[0m_config\u001b[0m\u001b[0;34m.\u001b[0m\u001b[0mdatabase\u001b[0m\u001b[0;34m,\u001b[0m\u001b[0;34m\u001b[0m\u001b[0;34m\u001b[0m\u001b[0m\n\u001b[1;32m    217\u001b[0m             \u001b[0mself\u001b[0m\u001b[0;34m.\u001b[0m\u001b[0m_config\u001b[0m\u001b[0;34m.\u001b[0m\u001b[0mimpersonated_user\u001b[0m\u001b[0;34m,\u001b[0m \u001b[0mself\u001b[0m\u001b[0;34m.\u001b[0m\u001b[0m_config\u001b[0m\u001b[0;34m.\u001b[0m\u001b[0mdefault_access_mode\u001b[0m\u001b[0;34m,\u001b[0m\u001b[0;34m\u001b[0m\u001b[0;34m\u001b[0m\u001b[0m\n",
      "\u001b[0;32m~/anaconda3/lib/python3.8/site-packages/neo4j/work/result.py\u001b[0m in \u001b[0;36m_run\u001b[0;34m(self, query, parameters, db, imp_user, access_mode, bookmarks, **kwparameters)\u001b[0m\n\u001b[1;32m    112\u001b[0m         \u001b[0mself\u001b[0m\u001b[0;34m.\u001b[0m\u001b[0m_pull\u001b[0m\u001b[0;34m(\u001b[0m\u001b[0;34m)\u001b[0m\u001b[0;34m\u001b[0m\u001b[0;34m\u001b[0m\u001b[0m\n\u001b[1;32m    113\u001b[0m         \u001b[0mself\u001b[0m\u001b[0;34m.\u001b[0m\u001b[0m_connection\u001b[0m\u001b[0;34m.\u001b[0m\u001b[0msend_all\u001b[0m\u001b[0;34m(\u001b[0m\u001b[0;34m)\u001b[0m\u001b[0;34m\u001b[0m\u001b[0;34m\u001b[0m\u001b[0m\n\u001b[0;32m--> 114\u001b[0;31m         \u001b[0mself\u001b[0m\u001b[0;34m.\u001b[0m\u001b[0m_attach\u001b[0m\u001b[0;34m(\u001b[0m\u001b[0;34m)\u001b[0m\u001b[0;34m\u001b[0m\u001b[0;34m\u001b[0m\u001b[0m\n\u001b[0m\u001b[1;32m    115\u001b[0m \u001b[0;34m\u001b[0m\u001b[0m\n\u001b[1;32m    116\u001b[0m     \u001b[0;32mdef\u001b[0m \u001b[0m_pull\u001b[0m\u001b[0;34m(\u001b[0m\u001b[0mself\u001b[0m\u001b[0;34m)\u001b[0m\u001b[0;34m:\u001b[0m\u001b[0;34m\u001b[0m\u001b[0;34m\u001b[0m\u001b[0m\n",
      "\u001b[0;32m~/anaconda3/lib/python3.8/site-packages/neo4j/work/result.py\u001b[0m in \u001b[0;36m_attach\u001b[0;34m(self)\u001b[0m\n\u001b[1;32m    201\u001b[0m         \u001b[0;32mif\u001b[0m \u001b[0mself\u001b[0m\u001b[0;34m.\u001b[0m\u001b[0m_closed\u001b[0m \u001b[0;32mis\u001b[0m \u001b[0;32mFalse\u001b[0m\u001b[0;34m:\u001b[0m\u001b[0;34m\u001b[0m\u001b[0;34m\u001b[0m\u001b[0m\n\u001b[1;32m    202\u001b[0m             \u001b[0;32mwhile\u001b[0m \u001b[0mself\u001b[0m\u001b[0;34m.\u001b[0m\u001b[0m_attached\u001b[0m \u001b[0;32mis\u001b[0m \u001b[0;32mFalse\u001b[0m\u001b[0;34m:\u001b[0m\u001b[0;34m\u001b[0m\u001b[0;34m\u001b[0m\u001b[0m\n\u001b[0;32m--> 203\u001b[0;31m                 \u001b[0mself\u001b[0m\u001b[0;34m.\u001b[0m\u001b[0m_connection\u001b[0m\u001b[0;34m.\u001b[0m\u001b[0mfetch_message\u001b[0m\u001b[0;34m(\u001b[0m\u001b[0;34m)\u001b[0m\u001b[0;34m\u001b[0m\u001b[0;34m\u001b[0m\u001b[0m\n\u001b[0m\u001b[1;32m    204\u001b[0m \u001b[0;34m\u001b[0m\u001b[0m\n\u001b[1;32m    205\u001b[0m     \u001b[0;32mdef\u001b[0m \u001b[0m_buffer\u001b[0m\u001b[0;34m(\u001b[0m\u001b[0mself\u001b[0m\u001b[0;34m,\u001b[0m \u001b[0mn\u001b[0m\u001b[0;34m=\u001b[0m\u001b[0;32mNone\u001b[0m\u001b[0;34m)\u001b[0m\u001b[0;34m:\u001b[0m\u001b[0;34m\u001b[0m\u001b[0;34m\u001b[0m\u001b[0m\n",
      "\u001b[0;32m~/anaconda3/lib/python3.8/site-packages/neo4j/io/_common.py\u001b[0m in \u001b[0;36minner\u001b[0;34m(*args, **kwargs)\u001b[0m\n\u001b[1;32m    165\u001b[0m             \u001b[0;32mdef\u001b[0m \u001b[0minner\u001b[0m\u001b[0;34m(\u001b[0m\u001b[0;34m*\u001b[0m\u001b[0margs\u001b[0m\u001b[0;34m,\u001b[0m \u001b[0;34m**\u001b[0m\u001b[0mkwargs\u001b[0m\u001b[0;34m)\u001b[0m\u001b[0;34m:\u001b[0m\u001b[0;34m\u001b[0m\u001b[0;34m\u001b[0m\u001b[0m\n\u001b[1;32m    166\u001b[0m                 \u001b[0;32mtry\u001b[0m\u001b[0;34m:\u001b[0m\u001b[0;34m\u001b[0m\u001b[0;34m\u001b[0m\u001b[0m\n\u001b[0;32m--> 167\u001b[0;31m                     \u001b[0mfunc\u001b[0m\u001b[0;34m(\u001b[0m\u001b[0;34m*\u001b[0m\u001b[0margs\u001b[0m\u001b[0;34m,\u001b[0m \u001b[0;34m**\u001b[0m\u001b[0mkwargs\u001b[0m\u001b[0;34m)\u001b[0m\u001b[0;34m\u001b[0m\u001b[0;34m\u001b[0m\u001b[0m\n\u001b[0m\u001b[1;32m    168\u001b[0m                 \u001b[0;32mexcept\u001b[0m \u001b[0;34m(\u001b[0m\u001b[0mNeo4jError\u001b[0m\u001b[0;34m,\u001b[0m \u001b[0mServiceUnavailable\u001b[0m\u001b[0;34m,\u001b[0m \u001b[0mSessionExpired\u001b[0m\u001b[0;34m)\u001b[0m \u001b[0;32mas\u001b[0m \u001b[0mexc\u001b[0m\u001b[0;34m:\u001b[0m\u001b[0;34m\u001b[0m\u001b[0;34m\u001b[0m\u001b[0m\n\u001b[1;32m    169\u001b[0m                     \u001b[0mself\u001b[0m\u001b[0;34m.\u001b[0m\u001b[0m__on_error\u001b[0m\u001b[0;34m(\u001b[0m\u001b[0mexc\u001b[0m\u001b[0;34m)\u001b[0m\u001b[0;34m\u001b[0m\u001b[0;34m\u001b[0m\u001b[0m\n",
      "\u001b[0;32m~/anaconda3/lib/python3.8/site-packages/neo4j/io/_bolt4.py\u001b[0m in \u001b[0;36mfetch_message\u001b[0;34m(self)\u001b[0m\n\u001b[1;32m    307\u001b[0m             \u001b[0mself\u001b[0m\u001b[0;34m.\u001b[0m\u001b[0m_server_state_manager\u001b[0m\u001b[0;34m.\u001b[0m\u001b[0mstate\u001b[0m \u001b[0;34m=\u001b[0m \u001b[0mServerStates\u001b[0m\u001b[0;34m.\u001b[0m\u001b[0mFAILED\u001b[0m\u001b[0;34m\u001b[0m\u001b[0;34m\u001b[0m\u001b[0m\n\u001b[1;32m    308\u001b[0m             \u001b[0;32mtry\u001b[0m\u001b[0;34m:\u001b[0m\u001b[0;34m\u001b[0m\u001b[0;34m\u001b[0m\u001b[0m\n\u001b[0;32m--> 309\u001b[0;31m                 \u001b[0mresponse\u001b[0m\u001b[0;34m.\u001b[0m\u001b[0mon_failure\u001b[0m\u001b[0;34m(\u001b[0m\u001b[0msummary_metadata\u001b[0m \u001b[0;32mor\u001b[0m \u001b[0;34m{\u001b[0m\u001b[0;34m}\u001b[0m\u001b[0;34m)\u001b[0m\u001b[0;34m\u001b[0m\u001b[0;34m\u001b[0m\u001b[0m\n\u001b[0m\u001b[1;32m    310\u001b[0m             \u001b[0;32mexcept\u001b[0m \u001b[0;34m(\u001b[0m\u001b[0mServiceUnavailable\u001b[0m\u001b[0;34m,\u001b[0m \u001b[0mDatabaseUnavailable\u001b[0m\u001b[0;34m)\u001b[0m\u001b[0;34m:\u001b[0m\u001b[0;34m\u001b[0m\u001b[0;34m\u001b[0m\u001b[0m\n\u001b[1;32m    311\u001b[0m                 \u001b[0;32mif\u001b[0m \u001b[0mself\u001b[0m\u001b[0;34m.\u001b[0m\u001b[0mpool\u001b[0m\u001b[0;34m:\u001b[0m\u001b[0;34m\u001b[0m\u001b[0;34m\u001b[0m\u001b[0m\n",
      "\u001b[0;32m~/anaconda3/lib/python3.8/site-packages/neo4j/io/_common.py\u001b[0m in \u001b[0;36mon_failure\u001b[0;34m(self, metadata)\u001b[0m\n\u001b[1;32m    223\u001b[0m         \u001b[0;32mif\u001b[0m \u001b[0mcallable\u001b[0m\u001b[0;34m(\u001b[0m\u001b[0mhandler\u001b[0m\u001b[0;34m)\u001b[0m\u001b[0;34m:\u001b[0m\u001b[0;34m\u001b[0m\u001b[0;34m\u001b[0m\u001b[0m\n\u001b[1;32m    224\u001b[0m             \u001b[0mhandler\u001b[0m\u001b[0;34m(\u001b[0m\u001b[0;34m)\u001b[0m\u001b[0;34m\u001b[0m\u001b[0;34m\u001b[0m\u001b[0m\n\u001b[0;32m--> 225\u001b[0;31m         \u001b[0;32mraise\u001b[0m \u001b[0mNeo4jError\u001b[0m\u001b[0;34m.\u001b[0m\u001b[0mhydrate\u001b[0m\u001b[0;34m(\u001b[0m\u001b[0;34m**\u001b[0m\u001b[0mmetadata\u001b[0m\u001b[0;34m)\u001b[0m\u001b[0;34m\u001b[0m\u001b[0;34m\u001b[0m\u001b[0m\n\u001b[0m\u001b[1;32m    226\u001b[0m \u001b[0;34m\u001b[0m\u001b[0m\n\u001b[1;32m    227\u001b[0m     \u001b[0;32mdef\u001b[0m \u001b[0mon_ignored\u001b[0m\u001b[0;34m(\u001b[0m\u001b[0mself\u001b[0m\u001b[0;34m,\u001b[0m \u001b[0mmetadata\u001b[0m\u001b[0;34m=\u001b[0m\u001b[0;32mNone\u001b[0m\u001b[0;34m)\u001b[0m\u001b[0;34m:\u001b[0m\u001b[0;34m\u001b[0m\u001b[0;34m\u001b[0m\u001b[0m\n",
      "\u001b[0;31mCypherSyntaxError\u001b[0m: {code: Neo.ClientError.Statement.SyntaxError} {message: Invalid input ':': expected <init> (line 2, column 1 (offset: 1))\n\":params {\"JohnWriteMR_1234\": {\"SUBJECT_NAME\": \"John\", \"OBJECT_NAME\": \"MR_1234\", \"ACTION_NAME\": \"Write\"}}\"\n ^}"
     ]
    }
   ],
   "source": [
    "# This is the policy search\n",
    "\n",
    "cypher_query = '''\n",
    ":params {\"JohnWriteMR_1234\": {\"SUBJECT_NAME\": \"John\", \"OBJECT_NAME\": \"MR_1234\", \"ACTION_NAME\": \"Write\"}}\n",
    "\n",
    "with $JohnWriteMR_1234 as req\n",
    "// Stage 1 - Subject Conditions\n",
    "match (sub:Subject {name:req.SUBJECT_NAME})-[:HAS_ATTR*0..5]->(sc)-[:SUB_CON]->(pol:Policy)\n",
    "with req, pol, size(collect(distinct sc)) as sat_cons\n",
    "match (pol)<-[:SUB_CON]-(rc)\n",
    "with req, pol, sat_cons, size(collect(rc)) as req_cons where req_cons = sat_cons \n",
    "\n",
    "// Stage 2 - Object Conditions\n",
    "match (obj:Object {name:req.OBJECT_NAME})-[:HAS_ATTR*0..5]->(sc)-[:OBJ_CON]->(pol) \n",
    "with req, pol, size(collect(distinct sc)) as sat_cons\n",
    "match (pol)<-[:OBJ_CON]-(rc)\n",
    "with req, pol, sat_cons, size(collect(rc)) as req_cons where req_cons = sat_cons \n",
    "\n",
    "// Stage 3 - Action Conditions\n",
    "match (act:Action {name:req.ACTION_NAME})-[:HAS_ATTR*0..5]->(sc)-[:ACT_CON]->(pol) \n",
    "with req, pol, size(collect(distinct sc)) as sat_cons\n",
    "match (pol)<-[:ACT_CON]-(rc)\n",
    "with req, pol, sat_cons, size(collect(rc)) as req_cons where req_cons = sat_cons \n",
    "return case when count(pol) = 0 or 'Deny' in collect(pol.decision) then 'Deny' else 'Permit' end as decision\n",
    "'''\n",
    "results = session.run(cypher_query)"
   ]
  },
  {
   "cell_type": "code",
   "execution_count": null,
   "id": "d214b794",
   "metadata": {},
   "outputs": [],
   "source": [
    "for line in results:\n",
    "    print(line)"
   ]
  },
  {
   "cell_type": "code",
   "execution_count": 27,
   "id": "4bbe717d",
   "metadata": {},
   "outputs": [
    {
     "ename": "SyntaxError",
     "evalue": "invalid syntax (<ipython-input-27-7731d00f060b>, line 1)",
     "output_type": "error",
     "traceback": [
      "\u001b[0;36m  File \u001b[0;32m\"<ipython-input-27-7731d00f060b>\"\u001b[0;36m, line \u001b[0;32m1\u001b[0m\n\u001b[0;31m    graph_db = neo4j.\u001b[0m\n\u001b[0m                     ^\u001b[0m\n\u001b[0;31mSyntaxError\u001b[0m\u001b[0;31m:\u001b[0m invalid syntax\n"
     ]
    }
   ],
   "source": [
    "# Testing\n",
    "\n",
    "graph_db = neo4j.\n",
    "qs = '''\n",
    "with {JohnWriteMR_1234} as req\n",
    "// Stage 1 - Subject Conditions\n",
    "match (sub:Subject {name:req.SUBJECT_NAME})-[:HAS_ATTR*0..5]->(sc)-[:SUB_CON]->(pol:Policy)\n",
    "with req, pol, size(collect(distinct sc)) as sat_cons\n",
    "match (pol)<-[:SUB_CON]-(rc)\n",
    "with req, pol, sat_cons, size(collect(rc)) as req_cons where req_cons = sat_cons \n",
    "\n",
    "// Stage 2 - Object Conditions\n",
    "match (obj:Object {name:req.OBJECT_NAME})-[:HAS_ATTR*0..5]->(sc)-[:OBJ_CON]->(pol) \n",
    "with req, pol, size(collect(distinct sc)) as sat_cons\n",
    "match (pol)<-[:OBJ_CON]-(rc)\n",
    "with req, pol, sat_cons, size(collect(rc)) as req_cons where req_cons = sat_cons \n",
    "\n",
    "// Stage 3 - Action Conditions\n",
    "match (act:Action {name:req.ACTION_NAME})-[:HAS_ATTR*0..5]->(sc)-[:ACT_CON]->(pol) \n",
    "with req, pol, size(collect(distinct sc)) as sat_cons\n",
    "match (pol)<-[:ACT_CON]-(rc)\n",
    "with req, pol, sat_cons, size(collect(rc)) as req_cons where req_cons = sat_cons \n",
    "return case when count(pol) = 0 or 'Deny' in collect(pol.decision) then 'Deny' else 'Permit' end as decision\n",
    "'''"
   ]
  },
  {
   "cell_type": "code",
   "execution_count": null,
   "id": "ce555167",
   "metadata": {},
   "outputs": [],
   "source": []
  },
  {
   "cell_type": "code",
   "execution_count": null,
   "id": "d36983a0",
   "metadata": {},
   "outputs": [],
   "source": []
  }
 ],
 "metadata": {
  "kernelspec": {
   "display_name": "Python 3",
   "language": "python",
   "name": "python3"
  },
  "language_info": {
   "codemirror_mode": {
    "name": "ipython",
    "version": 3
   },
   "file_extension": ".py",
   "mimetype": "text/x-python",
   "name": "python",
   "nbconvert_exporter": "python",
   "pygments_lexer": "ipython3",
   "version": "3.8.8"
  }
 },
 "nbformat": 4,
 "nbformat_minor": 5
}
