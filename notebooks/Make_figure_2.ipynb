{
 "cells": [
  {
   "cell_type": "code",
   "execution_count": 1,
   "id": "02e46e48",
   "metadata": {},
   "outputs": [],
   "source": [
    "from neo4j import GraphDatabase, basic_auth\n",
    "\n",
    "driver = GraphDatabase.driver(\n",
    "  \"bolt://52.6.70.195:7687\",\n",
    "  auth=basic_auth(\"neo4j\", \"rank-composition-bomb\"))\n",
    "session = driver.session()"
   ]
  },
  {
   "cell_type": "code",
   "execution_count": 2,
   "id": "5df3852a",
   "metadata": {},
   "outputs": [],
   "source": [
    "cypher_query = '''\n",
    "Match (n)\n",
    "DETACH DELETE n\n",
    "'''\n",
    "results = session.run(cypher_query)"
   ]
  },
  {
   "cell_type": "code",
   "execution_count": 3,
   "id": "2e287bb8",
   "metadata": {},
   "outputs": [],
   "source": [
    "# Make Figure 1\n",
    "cypher_query = '''\n",
    "//Patient\n",
    "create (peter:Subject:User:Primitive\n",
    "{name:'Peter'})-[:HAS_ATTR]->(patient:Role:Attribute {name:'Patient'})\n",
    "\n",
    "//Doctor & Nurses\n",
    "create (joe:Subject:User:Primitive {name:\"Joe\"})-[:HAS_ATTR]->(nurse:Role:Attribute {name:\"Nurse\"})\n",
    "create (john:Subject:User:Primitive {name:'John'})-[:HAS_ATTR]->(doctor:Role:Attribute {name:\"Doctor\"})\n",
    "merge (john)-[:HAS_ATTR]->(staff:Group:Attribute {name:'Hospital Staff'})<-[:HAS_ATTR]-(joe)\n",
    "merge (sue:Subject:User:Primitive {name: \"Sue\"})-[:HAS_ATTR]->(doctor)\n",
    "merge (sue)-[:HAS_ATTR]->(pClinic:Relationship:Attribute {name: \"Peter's Family Clinic\"})\n",
    "\n",
    "//Peter's digital assets\n",
    "merge (peter)-[:OWNER_OF]->(pRecs:Group:Attribute {name: \"Peter's Medical Records\"})<-[:HAS_ATTR]-(rec:Record:Object:Primitive {name:\"MR_1234\"})\n",
    "merge (pRecs)-[:HAS_ATTR]->(hRecs:Group:Attribute {name:'Hospital Records'})\n",
    "merge (peter)-[:OWNER_OF]->(prof:Data:Object {name:\"Peter's Profile\"})-[:HAS_ATTR]->(pp:Group:Attribute {name:'Hospital Profiles'})\n",
    "\n",
    "//Actions\n",
    "merge (read:Action {name:'Read'})-[:HAS_ATTR]->(fullAccess:Attribute:Group {name:\"Full Access\"})<-[:HAS_ATTR]-(write:Action {name:'Write'});\n",
    "'''\n",
    "results = session.run(cypher_query)"
   ]
  },
  {
   "cell_type": "code",
   "execution_count": 4,
   "id": "aebb6e30",
   "metadata": {},
   "outputs": [],
   "source": [
    "# Make Figure 2\n",
    "cypher_query = '''\n",
    "// Policy 1 - Permit; Hospital Staff, Full Access, Patient Profile\n",
    "match (sub:Attribute {name:\"Hospital Staff\"}), (obj:Attribute \n",
    "{name:\"Hospital Profiles\"}), (act:Attribute {name:\"Full Access\"})\n",
    "create (pol:Policy {name:'Policy1', decision:\"Permit\"})\n",
    "merge (pol)<-[:SUB_CON]-(sub)\n",
    "merge (pol)<-[:OBJ_CON]-(obj)\n",
    "merge (pol)<-[:ACT_CON]-(act);\n",
    "'''\n",
    "results = session.run(cypher_query)"
   ]
  },
  {
   "cell_type": "code",
   "execution_count": 5,
   "id": "a9430c89",
   "metadata": {},
   "outputs": [],
   "source": [
    "# Making Figure 2 cont..\n",
    "\n",
    "cypher_query = '''\n",
    "// Policy 2 - Permit: Doctor & Hospital Staff, Full Access, Hospital Records\n",
    "match (sub1: Attribute {name:\"Hospital Staff\"}), (sub2:Attribute \n",
    "{name:\"Doctor\"}), (obj:Attribute {name:\"Hospital Records\"}), (act:Attribute {name:\"Full Access\"})\n",
    "create (pol:Policy {name:\"Policy2\", decision:\"Permit\"})\n",
    "merge (pol)<-[:SUB_CON]-(sub1)\n",
    "merge (pol)<-[:SUB_CON]-(sub2)\n",
    "merge (pol)<-[:OBJ_CON]-(obj)\n",
    "merge (pol)<-[:ACT_CON]-(act);\n",
    "'''\n",
    "results = session.run(cypher_query)"
   ]
  },
  {
   "cell_type": "code",
   "execution_count": 6,
   "id": "a58dd222",
   "metadata": {},
   "outputs": [],
   "source": [
    "# Making Figure 2 cont..\n",
    "\n",
    "cypher_query = '''\n",
    "// Policy 3 - Permit: Doctor & Peter's Family Clinic, Read, Peter's Medical Records\n",
    "match (sub2:Attribute {name:\"Doctor\"}), (act:Action {name:\"Read\"}), (obj:Attribute {name:\"Peter's Medical Records\"}), (sub1:Attribute {name:\"Peter's Family Clinic\"})\n",
    "create (pol:Policy {name:\"Policy3\", decision:\"Permit\"})\n",
    "merge (pol)<-[:OBJ_CON]-(obj)\n",
    "merge (pol)<-[:SUB_CON]-(sub2)\n",
    "merge (pol)<-[:SUB_CON]-(sub1)\n",
    "merge (pol)<-[:ACT_CON]-(act);\n",
    "'''\n",
    "results = session.run(cypher_query)"
   ]
  },
  {
   "cell_type": "code",
   "execution_count": 7,
   "id": "b9f06e87",
   "metadata": {},
   "outputs": [],
   "source": [
    "cypher_query = '''\n",
    "match (sub)-[:HAS_ATTR*0..10]->(sc)-[:SUB_CON]->(pol:Policy)\n",
    "with pol, size(collect(distinct sc)) as sat_cons\n",
    "match (pol)<-[:SUB_CON]-(rc)\n",
    "with pol, sat_cons, size(collect(rc)) as req_cons where req_cons = sat_cons\n",
    "match (obj)-[:HAS_ATTR*0..2]->(sc)-[:OBJ_CON]->(pol)\n",
    "with pol, size(collect(distinct sc)) as sat_cons\n",
    "match (pol)<-[:OBJ_CON]-(rc)\n",
    "with pol, sat_cons, size(collect(rc)) as req_cons where req_cons = sat_cons\n",
    "match (act)-[:HAS_ATTR*0..10]->(sc)-[:ACT_CON]->(pol) with pol, size(collect(distinct sc)) as sat_cons match (pol)<-[:ACT_CON]-(rc)\n",
    "with pol, sat_cons, size(collect(rc)) as req_cons where req_cons = sat_cons\n",
    "return pol as matching_policies\n",
    "'''\n",
    "results = session.run(cypher_query)"
   ]
  },
  {
   "cell_type": "code",
   "execution_count": 8,
   "id": "da58cf7e",
   "metadata": {},
   "outputs": [
    {
     "name": "stdout",
     "output_type": "stream",
     "text": [
      "<Node id=17 labels=frozenset({'Policy'}) properties={'decision': 'Permit', 'name': 'Policy1'}>\n",
      "<Node id=18 labels=frozenset({'Policy'}) properties={'decision': 'Permit', 'name': 'Policy2'}>\n",
      "<Node id=19 labels=frozenset({'Policy'}) properties={'decision': 'Permit', 'name': 'Policy3'}>\n"
     ]
    }
   ],
   "source": [
    "for line in results:\n",
    "    print(line['matching_policies'])"
   ]
  },
  {
   "cell_type": "markdown",
   "id": "e99dbdf4",
   "metadata": {},
   "source": [
    "## From here on this doesn't work"
   ]
  },
  {
   "cell_type": "code",
   "execution_count": null,
   "id": "929184d0",
   "metadata": {},
   "outputs": [],
   "source": [
    "# This is the policy search\n",
    "\n",
    "cypher_query = '''\n",
    ":params {\"JohnWriteMR_1234\": {\"SUBJECT_NAME\": \"John\", \"OBJECT_NAME\": \"MR_1234\", \"ACTION_NAME\": \"Write\"}}\n",
    "\n",
    "with $JohnWriteMR_1234 as req\n",
    "// Stage 1 - Subject Conditions\n",
    "match (sub:Subject {name:req.SUBJECT_NAME})-[:HAS_ATTR*0..5]->(sc)-[:SUB_CON]->(pol:Policy)\n",
    "with req, pol, size(collect(distinct sc)) as sat_cons\n",
    "match (pol)<-[:SUB_CON]-(rc)\n",
    "with req, pol, sat_cons, size(collect(rc)) as req_cons where req_cons = sat_cons \n",
    "\n",
    "// Stage 2 - Object Conditions\n",
    "match (obj:Object {name:req.OBJECT_NAME})-[:HAS_ATTR*0..5]->(sc)-[:OBJ_CON]->(pol) \n",
    "with req, pol, size(collect(distinct sc)) as sat_cons\n",
    "match (pol)<-[:OBJ_CON]-(rc)\n",
    "with req, pol, sat_cons, size(collect(rc)) as req_cons where req_cons = sat_cons \n",
    "\n",
    "// Stage 3 - Action Conditions\n",
    "match (act:Action {name:req.ACTION_NAME})-[:HAS_ATTR*0..5]->(sc)-[:ACT_CON]->(pol) \n",
    "with req, pol, size(collect(distinct sc)) as sat_cons\n",
    "match (pol)<-[:ACT_CON]-(rc)\n",
    "with req, pol, sat_cons, size(collect(rc)) as req_cons where req_cons = sat_cons \n",
    "return case when count(pol) = 0 or 'Deny' in collect(pol.decision) then 'Deny' else 'Permit' end as decision\n",
    "'''\n",
    "results = session.run(cypher_query)"
   ]
  },
  {
   "cell_type": "code",
   "execution_count": 22,
   "id": "c31398e7",
   "metadata": {},
   "outputs": [
    {
     "name": "stdout",
     "output_type": "stream",
     "text": [
      "<Record decision='Permit'>\n"
     ]
    }
   ],
   "source": [
    "# See if John has full access\n",
    "\n",
    "JohnWriteMR_1234 = {\"SUBJECT_NAME\": \"John\",\"OBJECT_NAME\": \"MR_1234\", \"ACTION_NAME\":\"Write\"}\n",
    "cypher_query = '''\n",
    "with $JohnWriteMR_1234 as req\n",
    "// Stage 1 - Subject Conditions\n",
    "match (sub:Subject {name:req.SUBJECT_NAME})-[:HAS_ATTR*0..5]->(sc)-[:SUB_CON]->(pol:Policy)\n",
    "with req, pol, size(collect(distinct sc)) as sat_cons\n",
    "match (pol)<-[:SUB_CON]-(rc)\n",
    "with req, pol, sat_cons, size(collect(rc)) as req_cons where req_cons = sat_cons\n",
    "\n",
    "// Stage 2 - Object Conditions\n",
    "match (obj:Object {name:req.OBJECT_NAME})-[:HAS_ATTR*0..5]->(sc)-[:OBJ_CON]->(pol) \n",
    "with req, pol, size(collect(distinct sc)) as sat_cons\n",
    "match (pol)<-[:OBJ_CON]-(rc)\n",
    "with req, pol, sat_cons, size(collect(rc)) as req_cons where req_cons = sat_cons\n",
    "\n",
    "// Stage 3 - Action Conditions\n",
    "match (act:Action {name:req.ACTION_NAME})-[:HAS_ATTR*0..5]->(sc)-[:ACT_CON]->(pol) \n",
    "with req, pol, size(collect(distinct sc)) as sat_cons\n",
    "match (pol)<-[:ACT_CON]-(rc)\n",
    "with req, pol, sat_cons, size(collect(rc)) as req_cons where req_cons = sat_cons \n",
    "return case when count(pol) = 0 or 'Deny' in collect(pol.decision) then 'Deny' else 'Permit' end as decision\n",
    "'''\n",
    "results = session.run(cypher_query, JohnWriteMR_1234=JohnWriteMR_1234)\n",
    "for line in results:\n",
    "    print(line['decision'])"
   ]
  },
  {
   "cell_type": "code",
   "execution_count": 23,
   "id": "3dd4bf27",
   "metadata": {},
   "outputs": [
    {
     "name": "stdout",
     "output_type": "stream",
     "text": [
      "<Record decision='Permit'>\n"
     ]
    }
   ],
   "source": [
    "# See if Sue can read\n",
    "\n",
    "\n",
    "SueReadMR_1234 = {\"SUBJECT_NAME\":\"Sue\", \"OBJECT_NAME\":\"MR_1234\", \"ACTION_NAME\":\"Read\"}\n",
    "cypher_query = '''\n",
    "with $SueReadMR_1234 as req\n",
    "// Stage 1 - Subject Conditions\n",
    "match (sub:Subject {name:req.SUBJECT_NAME})-[:HAS_ATTR*0..5]->(sc)-[:SUB_CON]->(pol:Policy)\n",
    "with req, pol, size(collect(distinct sc)) as sat_cons\n",
    "match (pol)<-[:SUB_CON]-(rc)\n",
    "with req, pol, sat_cons, size(collect(rc)) as req_cons where req_cons = sat_cons\n",
    "\n",
    "// Stage 2 - Object Conditions\n",
    "match (obj:Object {name:req.OBJECT_NAME})-[:HAS_ATTR*0..5]->(sc)-[:OBJ_CON]->(pol) \n",
    "with req, pol, size(collect(distinct sc)) as sat_cons\n",
    "match (pol)<-[:OBJ_CON]-(rc)\n",
    "with req, pol, sat_cons, size(collect(rc)) as req_cons where req_cons = sat_cons\n",
    "\n",
    "// Stage 3 - Action Conditions\n",
    "match (act:Action {name:req.ACTION_NAME})-[:HAS_ATTR*0..5]->(sc)-[:ACT_CON]->(pol) \n",
    "with req, pol, size(collect(distinct sc)) as sat_cons\n",
    "match (pol)<-[:ACT_CON]-(rc)\n",
    "with req, pol, sat_cons, size(collect(rc)) as req_cons where req_cons = sat_cons \n",
    "return case when count(pol) = 0 or 'Deny' in collect(pol.decision) then 'Deny' else 'Permit' end as decision\n",
    "'''\n",
    "results = session.run(cypher_query, SueReadMR_1234=SueReadMR_1234)\n",
    "for line in results:\n",
    "    print(line['decision'])"
   ]
  },
  {
   "cell_type": "code",
   "execution_count": 28,
   "id": "66775072",
   "metadata": {},
   "outputs": [
    {
     "name": "stdout",
     "output_type": "stream",
     "text": [
      "Deny\n"
     ]
    }
   ],
   "source": [
    "# See if Sue has full access\n",
    "\n",
    "SueWriteMR_1234 = {\"SUBJECT_NAME\": \"Sue\", \"OBJECT_NAME\": \"MR_1234\", \"ACTION_NAME\": \"Write\"}\n",
    "cypher_query = '''\n",
    "with $SueWriteMR_1234 as req\n",
    "// Stage 1 - Subject Conditions\n",
    "match (sub:Subject {name:req.SUBJECT_NAME})-[:HAS_ATTR*0..5]->(sc)-[:SUB_CON]->(pol:Policy)\n",
    "with req, pol, size(collect(distinct sc)) as sat_cons\n",
    "match (pol)<-[:SUB_CON]-(rc)\n",
    "with req, pol, sat_cons, size(collect(rc)) as req_cons where req_cons = sat_cons\n",
    "\n",
    "// Stage 2 - Object Conditions\n",
    "match (obj:Object {name:req.OBJECT_NAME})-[:HAS_ATTR*0..5]->(sc)-[:OBJ_CON]->(pol) \n",
    "with req, pol, size(collect(distinct sc)) as sat_cons\n",
    "match (pol)<-[:OBJ_CON]-(rc)\n",
    "with req, pol, sat_cons, size(collect(rc)) as req_cons where req_cons = sat_cons\n",
    "\n",
    "// Stage 3 - Action Conditions\n",
    "match (act:Action {name:req.ACTION_NAME})-[:HAS_ATTR*0..5]->(sc)-[:ACT_CON]->(pol) \n",
    "with req, pol, size(collect(distinct sc)) as sat_cons\n",
    "match (pol)<-[:ACT_CON]-(rc)\n",
    "with req, pol, sat_cons, size(collect(rc)) as req_cons where req_cons = sat_cons \n",
    "return case when count(pol) = 0 or 'Deny' in collect(pol.decision) then 'Deny' else 'Permit' end as decision\n",
    "'''\n",
    "results = session.run(cypher_query, SueWriteMR_1234=SueWriteMR_1234)\n",
    "for line in results:\n",
    "    print(line['decision'])"
   ]
  }
 ],
 "metadata": {
  "kernelspec": {
   "display_name": "Python 3",
   "language": "python",
   "name": "python3"
  },
  "language_info": {
   "codemirror_mode": {
    "name": "ipython",
    "version": 3
   },
   "file_extension": ".py",
   "mimetype": "text/x-python",
   "name": "python",
   "nbconvert_exporter": "python",
   "pygments_lexer": "ipython3",
   "version": "3.8.8"
  }
 },
 "nbformat": 4,
 "nbformat_minor": 5
}
