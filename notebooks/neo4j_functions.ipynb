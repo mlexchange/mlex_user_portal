{
 "cells": [
  {
   "cell_type": "code",
   "execution_count": 1,
   "metadata": {},
   "outputs": [],
   "source": [
    "from py2neo import Graph, Node, Relationship\n",
    "from pandas import DataFrame\n",
    "#import json\n",
    "#json.dumps(list)"
   ]
  },
  {
   "cell_type": "code",
   "execution_count": 2,
   "metadata": {},
   "outputs": [],
   "source": [
    "graph = Graph(\"neo4j+s://44bb2475.databases.neo4j.io\", auth=(\"neo4j\", \"n04yHsQNfrl_f72g79zqMO8xVU2UvUsNJsafcZMtCFM\"))"
   ]
  },
  {
   "cell_type": "code",
   "execution_count": 4,
   "metadata": {},
   "outputs": [
    {
     "data": {
      "text/html": [
       "<div>\n",
       "<style scoped>\n",
       "    .dataframe tbody tr th:only-of-type {\n",
       "        vertical-align: middle;\n",
       "    }\n",
       "\n",
       "    .dataframe tbody tr th {\n",
       "        vertical-align: top;\n",
       "    }\n",
       "\n",
       "    .dataframe thead th {\n",
       "        text-align: right;\n",
       "    }\n",
       "</style>\n",
       "<table border=\"1\" class=\"dataframe\">\n",
       "  <thead>\n",
       "    <tr style=\"text-align: right;\">\n",
       "      <th></th>\n",
       "      <th>u.fname</th>\n",
       "      <th>u.lname</th>\n",
       "      <th>u.email</th>\n",
       "    </tr>\n",
       "  </thead>\n",
       "  <tbody>\n",
       "    <tr>\n",
       "      <th>0</th>\n",
       "      <td>Hari</td>\n",
       "      <td>Krish</td>\n",
       "      <td>hk@lbl.gov</td>\n",
       "    </tr>\n",
       "    <tr>\n",
       "      <th>1</th>\n",
       "      <td>John</td>\n",
       "      <td>Doe</td>\n",
       "      <td>jdoe@yahoo.com</td>\n",
       "    </tr>\n",
       "    <tr>\n",
       "      <th>2</th>\n",
       "      <td>Howard</td>\n",
       "      <td>Yanxon</td>\n",
       "      <td>yanxonh@anl.gov</td>\n",
       "    </tr>\n",
       "    <tr>\n",
       "      <th>3</th>\n",
       "      <td>Alex</td>\n",
       "      <td>Hexemer</td>\n",
       "      <td>ahexemer@lbl.gov</td>\n",
       "    </tr>\n",
       "  </tbody>\n",
       "</table>\n",
       "</div>"
      ],
      "text/plain": [
       "  u.fname  u.lname           u.email\n",
       "0    Hari    Krish        hk@lbl.gov\n",
       "1    John      Doe    jdoe@yahoo.com\n",
       "2  Howard   Yanxon   yanxonh@anl.gov\n",
       "3    Alex  Hexemer  ahexemer@lbl.gov"
      ]
     },
     "execution_count": 4,
     "metadata": {},
     "output_type": "execute_result"
    }
   ],
   "source": [
    "dtf_data = DataFrame([dict(_) for _ in graph.run(\"MATCH (u:user) RETURN DISTINCT u.fname, u.lname, u.email\")])\n",
    "dtf_data"
   ]
  },
  {
   "cell_type": "markdown",
   "metadata": {},
   "source": [
    "Confirmed Content Assets: (asset doesn't exist LOL)\n",
    "(1) Workflow\n",
    "(2) Model\n",
    "(3) "
   ]
  },
  {
   "cell_type": "code",
   "execution_count": 23,
   "metadata": {},
   "outputs": [],
   "source": [
    "### SERVICE_API ###\n",
    "def add_user(fname:str, lname:str, email:str, role:str):\n",
    "    dbindx = len([dict(_) for _ in graph.run(\"MATCH (u:user) RETURN u\")]) + 1\n",
    "    temp_id = str(fname[0] + lname + str(dbindx).zfill(5))\n",
    "    cypher_query = '''\n",
    "    MATCH (r:Role {name:$role})\n",
    "    CREATE (n:Subject:user:Primitive {uid:$temp_id, fname:$fname, lname:$lname, email:$email})-[:has_attr]->(r)\n",
    "    '''\n",
    "    graph.run(cypher_query, parameters = {'temp_id':temp_id, 'fname':fname, 'lname':lname, 'email':email, 'role':role})\n",
    "\n",
    "def add_compute_loc(cname:str, cloc:str):\n",
    "    cypher_query = '''\n",
    "    CREATE(n:compute:Object:Location {cname:$cname, cloc:$cloc})\n",
    "    '''\n",
    "    graph.run(cypher_query, parameters = {'cname':cname, 'cloc':cloc})\n",
    "\n",
    "def add_content_asset(aname:str, atype:str, owner:str):\n",
    "    auid = str(owner + '_')\n",
    "    cypher_query = '''\n",
    "    CREATE (n:content:Object:Primitive {aname:$aname, atype:$atype, a_uid:toString(($auid)+toString(timestamp())), owner:$owner})\n",
    "    RETURN n.a_uid\n",
    "    '''\n",
    "    a_uid=graph.run(cypher_query, parameters = {'aname':aname, 'atype':atype, 'auid':auid, 'owner':owner}).evaluate()\n",
    "    cypher_query= '''\n",
    "    MATCH (u:user {uid:$owner})\n",
    "    MATCH (c:content {a_uid:$a_uid})\n",
    "    MERGE (u)-[rel:owner_of]->(c)\n",
    "    '''\n",
    "    graph.run(cypher_query, parameters = {'a_uid':a_uid, 'owner':owner})\n",
    "\n",
    "def add_user_asset(uaname:str, uatype:str, ua_srcpath:str, owner:str):\n",
    "    uauid = str(owner + '_')\n",
    "    cypher_query='''\n",
    "    CREATE (n:user_asset:Object:Primitive {uaname:$uaname, uatype:$uatype, ua_srcpath:$ua_srcpath, ua_uid:toString(($uauid)+toString(timestamp())), owner:$owner})\n",
    "    RETURN n.ua_uid\n",
    "    '''\n",
    "    ua_uid=graph.run(cypher_query, parameters = {'uaname':uaname, 'uatype':uatype, 'ua_srcpath':ua_srcpath, 'uauid':uauid, 'owner':owner}).evaluate()\n",
    "    cypher_query= '''\n",
    "    MATCH (u:user {uid:$owner})\n",
    "    MATCH (ua:user_asset {ua_uid:$ua_uid})\n",
    "    MERGE (u)-[rel:owner_of]->(ua)\n",
    "    '''\n",
    "    graph.run(cypher_query, parameters = {'owner':owner,'ua_uid':ua_uid})\n",
    "\n",
    "def delete_user(uid:str):\n",
    "    cypher_query = '''\n",
    "    MATCH (u:user {uid:$uid})\n",
    "    DETACH DELETE (u)\n",
    "    '''\n",
    "    graph.run(cypher_query, parameters = {'uid':uid})\n",
    "\n",
    "def delete_compute_loc(cname:str, cloc:str):\n",
    "    cypher_query = '''\n",
    "    MATCH (c:compute:Object:Location {cname:$cname, cloc:$cloc})\n",
    "    DETACH DELETE (c)\n",
    "    '''\n",
    "    graph.run(cypher_query, parameters = {'cname':cname, 'cloc':cloc})\n",
    "\n",
    "def delete_content_asset(aname:str):\n",
    "    # deletes an asset node and all of its relationships\n",
    "    cypher_query = '''\n",
    "    MATCH (c:content {aname:$aname})\n",
    "    DETACH DELETE (c)\n",
    "    '''\n",
    "    graph.run(cypher_query, parameters = {'aname':aname})\n",
    "\n",
    "def delete_user_asset(uaname:str):\n",
    "    # deletes an asset node and all of its relationships\n",
    "    cypher_query = '''\n",
    "    MATCH (ua:user_asset {uaname:$uaname})\n",
    "    DETACH DELETE (ua)\n",
    "    '''\n",
    "    graph.run(cypher_query, parameters = {'uaname':uaname})\n",
    "\n",
    "### MANAGE TEAM  -- USES 'TEAM' 'ATTRIBUTE' PROPERTIES ###\n",
    "\n",
    "def add_user_team(tname:str, creator:str, target_uid:str):\n",
    "    cypher_query = '''\n",
    "    MATCH (u:user {uid:$target_uid}), (t:Team:Attribute {name:$tname, creator:$creator})\n",
    "    MERGE (u)-[:has_attr]->(t)\n",
    "    '''\n",
    "    graph.run(cypher_query, parameters = {'uid':target_uid, 'tname':tname, 'creator':creator})\n",
    "\n",
    "def create_user_team(tname:str, tlist:list, creator:str):\n",
    "    # takes a list of user nodes and creates a label and applies label to user nodes\n",
    "    # team names must be unique per creator\n",
    "    cypher_query='''\n",
    "    CREATE (team:Team:Attribute {name:$tname, creator:$creator})\n",
    "    '''\n",
    "    graph.run(cypher_query, parameters ={'tname':tname, 'creator':creator})\n",
    "\n",
    "    for uid in tlist:\n",
    "        cypher_query='''\n",
    "        MATCH (u:user {uid:$uid}), (t:Team:Attribute {name:$tname, creator:$creator})\n",
    "        MERGE (u)-[:has_attr]->(t)\n",
    "        '''\n",
    "        graph.run(cypher_query, parameters = {'uid':uid, 'tname':tname, 'creator':creator})\n",
    "\n",
    "def delete_user_team(tname:str, creator:str, target_uid:str):\n",
    "    # takes a list of user nodes and creates a label and applies label to user nodes\n",
    "    # team names must be unique per creator\n",
    "    cypher_query='''\n",
    "    MATCH (n:Team:Attribute {name:$tname, creator:$creator})\n",
    "    DETACH DELETE (n)\n",
    "    '''\n",
    "    graph.run(cypher_query, parameters ={'tname':tname, 'creator':creator})\n",
    "\n",
    "def remove_user_team(tname:str, creator:str, target_uid:str):\n",
    "    cypher_query = '''\n",
    "    MATCH (u:user {uid:$target_uid}) -[rel:has_attr]-> (t:Team:Attribute {name:$tname, creator:$creator})\n",
    "    DELETE rel\n",
    "    '''\n",
    "    graph.run(cypher_query, parameters = {'uid':target_uid, 'tname':tname, 'creator':creator})\n",
    "\n",
    "### MANAGE ROLES -- USES 'ROLE' 'ATTRIBUTE' PROPERTIES ###\n",
    "def assign_user_role(uid:str, rname:str):\n",
    "    # assign a user by uid to a role by role_id\n",
    "    cypher_query = '''\n",
    "    MATCH (u:user {uid:$uid}), (r:Role {name:$rname})\n",
    "    MERGE (u)-[:has_attr]->(r)\n",
    "    '''\n",
    "    graph.run(cypher_query, parameters = {'uid':uid, 'rname':rname})\n",
    "\n",
    "def create_role(rname:str):\n",
    "    # create a new role\n",
    "    cypher_query = '''\n",
    "    CREATE(n:Role:Attribute {name:$rname})\n",
    "    '''\n",
    "    graph.run(cypher_query, parameters = {'rname':rname})\n",
    "\n",
    "def delete_role(rname:str):\n",
    "    # delete existing role\n",
    "    cypher_query = '''\n",
    "    MATCH (r:Role {name:$rname})\n",
    "    DETACH DELETE (r)\n",
    "    '''\n",
    "    graph.run(cypher_query, parameters = {'rname':rname})\n",
    "\n",
    "def remove_user_role(target_uid:str, rname:str):\n",
    "    # remove role assignment from a unique user\n",
    "    cypher_query = '''\n",
    "    MATCH (u:user {uid:$target_uid})-[rel:has_attr]->(r:Role {name:$rname})\n",
    "    DELETE rel\n",
    "    '''\n",
    "    graph.run(cypher_query, parameters = {'target_uid':target_uid, 'rname':rname})\n",
    "\n",
    "### CREATE ACTIONS ###\n",
    "def create_actions_basic():\n",
    "    cypher_query = '''\n",
    "    MERGE (read:Action {name:'Read'})-[:has_attr]->(fullAccess:Attribute:Group\n",
    "    {name: 'Full Access'})<-[:has_attr]-(write:Action {name:'Write'})\n",
    "    '''\n",
    "    graph.run(cypher_query)\n",
    "\n",
    "### FETCH INFORMATION ###\n",
    "def get_user_info(uid:str):\n",
    "    cypher_query = '''\n",
    "    MATCH (u:user) WHERE u.uid = $uid\n",
    "    RETURN DISTINCT u.fname as Firstname, u.lname as Lastname, u.email as Email\n",
    "    '''\n",
    "    output = DataFrame([dict(_) for _ in graph.run(cypher_query, parameters = {'uid':uid})])\n",
    "    return output\n"
   ]
  },
  {
   "cell_type": "code",
   "execution_count": 13,
   "metadata": {},
   "outputs": [],
   "source": [
    "### MANAGE ASSET ACCESS ###\n",
    "def assign_asset_manager(aname:str, target_uid:str):\n",
    "    # gives read/write/share privileges\n",
    "    cypher_query = '''\n",
    "    '''\n",
    "    graph.run(cypher_query, parameters = {'target_uid':target_uid, 'aname':aname})\n",
    "\n",
    "def share_asset_read_group(aname:str, gid:str, pname:str):\n",
    "    # gives read-only privileges\n",
    "    cypher_query = '''\n",
    "    MATCH (sub:Attribute {gid:$gid}), (obj:Attribute {name:$aname}), (act:Attribute {name:\"Read\"})\n",
    "    CREATE (pol:Policy {name:$pname, pid:toString($aname + $pname), decision:\"Permit\"})\n",
    "    MERGE (pol)<-[:SUB_CON]-(sub)\n",
    "    MERGE (pol)<-[:OBJ_CON]-(obj)\n",
    "    MERGE (pol)<-[:ACT_CON]-(act)\n",
    "    '''\n",
    "    graph.run(cypher_query, parameters = {'gid':gid, 'aname':aname, 'pname':pname})\n",
    "\n",
    "def share_asset_read_user(aname:str, target_uid:str):\n",
    "    # gives read-only privileges\n",
    "    cypher_query = '''\n",
    "    MATCH (u:user {uid:$target_uid}), (a:asset {aname:$aname})\n",
    "    CREATE (u) -[rel:has_attr]-> (a)\n",
    "    '''\n",
    "    graph.run(cypher_query, parameters = {'target_uid':target_uid, 'aname':aname})\n",
    "\n",
    "def share_asset_write_group(aname:str, gid:str):\n",
    "    # gives read/write privileges\n",
    "    cypher_query = '''\n",
    "    MATCH (sub:Attribute {gid:$gid}), (obj:Attribute {name:$aname}), (act:Attribute {name:\"Write\"})\n",
    "    CREATE (pol:Policy {name:$pname, pid:toString(($pname)+toString(timestamp())), decision:\"Permit\"})\n",
    "    MERGE (pol)<-[:SUB_CON]-(sub)\n",
    "    MERGE (pol)<-[:OBJ_CON]-(obj)\n",
    "    MERGE (pol)<-[:ACT_CON]-(act)\n",
    "    '''\n",
    "    graph.run(cypher_query, parameters = {'target_uid':target_uid, 'aname':aname})\n",
    "\n",
    "def share_asset_write_user(aname:str, target_uid:str):\n",
    "    # gives read/write privileges\n",
    "    cypher_query = '''\n",
    "    MATCH (u:user {uid:$target_uid}), (a:asset {aname:$aname})\n",
    "    CREATE (u) -[rel:has_attr]-> (a)\n",
    "    '''\n",
    "    graph.run(cypher_query, parameters = {'target_uid':target_uid, 'aname':aname})\n",
    "\n",
    "#def remove_asset_access_user(aname:str, uid:str):\n",
    "#def remove_asset_access_group(aname:str, gid:str):\n",
    "#def request_asset_access():\n",
    "#def request_compute_resources():"
   ]
  },
  {
   "cell_type": "markdown",
   "metadata": {},
   "source": [
    "Use the code below to generate a sample graph upon which to run policies. Please note the "
   ]
  },
  {
   "cell_type": "code",
   "execution_count": 20,
   "metadata": {},
   "outputs": [],
   "source": [
    "#create action nodes for policy reference\n",
    "create_actions_basic()\n",
    "\n",
    "# create three new roles\n",
    "create_role('admin')\n",
    "create_role('subadmin')\n",
    "create_role('general user')\n",
    "\n",
    "# add five users with different roles to database\n",
    "add_user(\"Hari\",\"Krish\", \"hk@lbl.gov\", 'admin')\n",
    "add_user(\"John\", \"Doe\", \"jdoe@yahoo.com\", 'general user')\n",
    "add_user(\"Howard\", \"Yanxon\", \"yanxonh@anl.gov\", 'subadmin')\n",
    "add_user(\"Alex\", \"Hexemer\", \"ahexemer@lbl.gov\", 'admin')\n",
    "add_user(\"Jane\", \"Dough\", \"jdough@gmail.com\", 'general user')"
   ]
  },
  {
   "cell_type": "code",
   "execution_count": 21,
   "metadata": {},
   "outputs": [],
   "source": [
    "# add one asset to content registry\n",
    "add_content_asset(\"trainedmodel_01\", \"trained_model\", \"JDoe00002\")\n",
    "\n",
    "# add a private user asset (dataset local to user)\n",
    "add_user_asset(\"private_data\", \"dataset\", \"data/cynanobacteria.npy\", 'JDough00005')"
   ]
  },
  {
   "cell_type": "code",
   "execution_count": 22,
   "metadata": {},
   "outputs": [],
   "source": [
    "# create a team of existing users\n",
    "ulist=['AHexemer00004','JDough00005','JDoe00002']\n",
    "create_user_team('team01', ulist, 'HKrish00001')\n"
   ]
  },
  {
   "cell_type": "markdown",
   "metadata": {},
   "source": [
    "Below this Markdown box are incomplete definitions that will likely require the creation of policies."
   ]
  },
  {
   "cell_type": "code",
   "execution_count": 116,
   "metadata": {},
   "outputs": [],
   "source": [
    "# share file asset in three different ways\n",
    "assign_asset_manager(\"trainedmodel_01\", \"HKrish00001\")"
   ]
  },
  {
   "cell_type": "code",
   "execution_count": 113,
   "metadata": {},
   "outputs": [],
   "source": [
    "delete_content_asset('trainedmodel_01')"
   ]
  },
  {
   "cell_type": "code",
   "execution_count": 112,
   "metadata": {},
   "outputs": [],
   "source": [
    "delete_user_asset('private_data')"
   ]
  },
  {
   "cell_type": "code",
   "execution_count": 41,
   "metadata": {},
   "outputs": [],
   "source": [
    "delete_user('JDough00005')"
   ]
  },
  {
   "cell_type": "code",
   "execution_count": 108,
   "metadata": {},
   "outputs": [],
   "source": [
    "remove_user_role('AHexemer00004', 'admin')"
   ]
  },
  {
   "cell_type": "code",
   "execution_count": 11,
   "metadata": {},
   "outputs": [],
   "source": [
    "ulist=['AHexemer00004','JDough00005','JDoe00002']"
   ]
  },
  {
   "cell_type": "code",
   "execution_count": null,
   "metadata": {},
   "outputs": [],
   "source": [
    "delete_user_team"
   ]
  }
 ],
 "metadata": {
  "interpreter": {
   "hash": "fd677d99d7199ce563fda67e96b9761d73454adb8738afc99b8bb1b71fa6fd80"
  },
  "kernelspec": {
   "display_name": "Python 3.9.7 ('neo4j')",
   "language": "python",
   "name": "python3"
  },
  "language_info": {
   "codemirror_mode": {
    "name": "ipython",
    "version": 3
   },
   "file_extension": ".py",
   "mimetype": "text/x-python",
   "name": "python",
   "nbconvert_exporter": "python",
   "pygments_lexer": "ipython3",
   "version": "3.9.7"
  },
  "orig_nbformat": 4
 },
 "nbformat": 4,
 "nbformat_minor": 2
}
