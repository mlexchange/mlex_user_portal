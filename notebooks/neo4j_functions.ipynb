{
 "cells": [
  {
   "cell_type": "code",
   "execution_count": 2,
   "metadata": {},
   "outputs": [],
   "source": [
    "from py2neo import Graph, Node, Relationship\n",
    "from pandas import DataFrame\n",
    "#import json\n",
    "#json.dumps(list)"
   ]
  },
  {
   "cell_type": "code",
   "execution_count": 3,
   "metadata": {},
   "outputs": [],
   "source": [
    "graph = Graph(\"neo4j+s://44bb2475.databases.neo4j.io\", auth=(\"neo4j\", \"n04yHsQNfrl_f72g79zqMO8xVU2UvUsNJsafcZMtCFM\"))"
   ]
  },
  {
   "cell_type": "code",
   "execution_count": 55,
   "metadata": {},
   "outputs": [
    {
     "data": {
      "text/html": [
       "<div>\n",
       "<style scoped>\n",
       "    .dataframe tbody tr th:only-of-type {\n",
       "        vertical-align: middle;\n",
       "    }\n",
       "\n",
       "    .dataframe tbody tr th {\n",
       "        vertical-align: top;\n",
       "    }\n",
       "\n",
       "    .dataframe thead th {\n",
       "        text-align: right;\n",
       "    }\n",
       "</style>\n",
       "<table border=\"1\" class=\"dataframe\">\n",
       "  <thead>\n",
       "    <tr style=\"text-align: right;\">\n",
       "      <th></th>\n",
       "      <th>u.fname</th>\n",
       "      <th>u.lname</th>\n",
       "      <th>u.pos</th>\n",
       "      <th>u.email</th>\n",
       "    </tr>\n",
       "  </thead>\n",
       "  <tbody>\n",
       "    <tr>\n",
       "      <th>0</th>\n",
       "      <td>Liz</td>\n",
       "      <td>Holman</td>\n",
       "      <td>MLex</td>\n",
       "      <td>eaholman@lbl.gov</td>\n",
       "    </tr>\n",
       "    <tr>\n",
       "      <th>1</th>\n",
       "      <td>Howard</td>\n",
       "      <td>Yanxon</td>\n",
       "      <td>MLex</td>\n",
       "      <td>yanxonh@anl.gov</td>\n",
       "    </tr>\n",
       "    <tr>\n",
       "      <th>2</th>\n",
       "      <td>Hari</td>\n",
       "      <td>Krish</td>\n",
       "      <td>admin</td>\n",
       "      <td>hk@yahoo.com</td>\n",
       "    </tr>\n",
       "  </tbody>\n",
       "</table>\n",
       "</div>"
      ],
      "text/plain": [
       "  u.fname u.lname  u.pos           u.email\n",
       "0     Liz  Holman   MLex  eaholman@lbl.gov\n",
       "1  Howard  Yanxon   MLex   yanxonh@anl.gov\n",
       "2    Hari   Krish  admin      hk@yahoo.com"
      ]
     },
     "execution_count": 55,
     "metadata": {},
     "output_type": "execute_result"
    }
   ],
   "source": [
    "dtf_data = DataFrame([dict(_) for _ in graph.run(\"MATCH (u:user) RETURN DISTINCT u.fname, u.lname, u.pos, u.email\")])\n",
    "dtf_data"
   ]
  },
  {
   "cell_type": "code",
   "execution_count": 4,
   "metadata": {},
   "outputs": [],
   "source": [
    "### SERVICE_API ###\n",
    "def add_user(fname:str, lname:str, email:str):\n",
    "    dbindx = len([dict(_) for _ in graph.run(\"MATCH (u:user) RETURN u\")]) + 1\n",
    "    temp_id = str(fname[0] + lname + str(dbindx).zfill(5))\n",
    "    cypher_query = '''\n",
    "    CREATE(n:user {uid:$temp_id, fname:$fname, lname:$lname, email:$email})\n",
    "    '''\n",
    "    graph.run(cypher_query, parameters = {'temp_id':temp_id, 'fname':fname, 'lname':lname, 'email':email})\n",
    "\n",
    "def add_asset(aname:str, atype:str, a_uid:str, owner:str):\n",
    "    cypher_query = '''\n",
    "    MATCH (u:user {uid:$owner})\n",
    "    CREATE (u)-[r:own_asset]->(n:asset {aname:$aname, atype:$atype, a_uid:$a_uid})\n",
    "    '''\n",
    "    graph.run(cypher_query, parameters = {'owner':owner, 'aname':aname, 'atype':atype, 'a_uid':a_uid})\n",
    "\n",
    "def share_asset_read(aname:str, target_uid:str):\n",
    "    # gives read-only privileges\n",
    "    cypher_query = '''\n",
    "    MATCH (u:user {uid:$target_uid}), (a:asset {aname:$aname})\n",
    "    CREATE (u) -[r:can_read]-> (a)\n",
    "    '''\n",
    "    graph.run(cypher_query, parameters = {'target_uid':target_uid, 'aname':aname})\n",
    "\n",
    "def share_asset_edit(aname:str, target_uid:str):\n",
    "    # gives read/write privileges\n",
    "    cypher_query = '''\n",
    "    MATCH (u:user {uid:$target_uid}), (a:asset {aname:$aname})\n",
    "    CREATE (u) -[r:can_edit]-> (a)\n",
    "    '''\n",
    "    graph.run(cypher_query, parameters = {'target_uid':target_uid, 'aname':aname})\n",
    "\n",
    "def assign_asset_manager(aname:str, target_uid:str):\n",
    "    # gives read/write/share privileges\n",
    "    cypher_query = '''\n",
    "    MATCH (u:user {uid:$target_uid}), (a:asset {aname:$aname})\n",
    "    CREATE (u) -[r:can_manage]-> (a)\n",
    "    '''\n",
    "    graph.run(cypher_query, parameters = {'target_uid':target_uid, 'aname':aname})\n",
    "\n",
    "def delete_asset(aname:str):\n",
    "    # deletes an asset node and all of its relationships\n",
    "    cypher_query = '''\n",
    "    MATCH (a:asset {aname:$aname})\n",
    "    DETACH DELETE a\n",
    "    '''\n",
    "    graph.run(cypher_query, parameters = {'aname':aname})\n",
    "\n",
    "#def remove_asset_access(aname:str, target_uid:str):\n",
    "\n",
    "### FETCH INFORMATION ###\n",
    "def get_user_info(uid:str):\n",
    "    cypher_query = '''\n",
    "    MATCH (u:user) WHERE u.uid = $uid\n",
    "    RETURN DISTINCT u.fname as Firstname, u.lname as Lastname, u.email as Email\n",
    "    '''\n",
    "    output = DataFrame([dict(_) for _ in graph.run(cypher_query, parameters = {'uid':uid})])\n",
    "    return output\n",
    "\n",
    "### MANAGE ROLE NODES ###\n",
    "def assign_role(uid:str, role_id:str):\n",
    "    # assign a user by uid to a role by role_id\n",
    "    cypher_query = '''\n",
    "    MATCH (u:user {uid:$uid}), (id:role {role_id:$role_id})\n",
    "    CREATE(u)-[r:has_role]->(id)\n",
    "    '''\n",
    "    graph.run(cypher_query, parameters = {'uid':uid, 'role_id':role_id})\n",
    "\n",
    "def create_role(rname:str, role_id:str):\n",
    "    # create a new role\n",
    "    cypher_query = '''\n",
    "    CREATE(n:role {rname:$rname, role_id:$role_id})\n",
    "    '''\n",
    "    graph.run(cypher_query, parameters = {'rname':rname, 'role_id':role_id})\n"
   ]
  },
  {
   "cell_type": "code",
   "execution_count": null,
   "metadata": {},
   "outputs": [],
   "source": [
    "#def request_asset_access():\n",
    "\n",
    "#def request_compute_resources():\n",
    "\n",
    "#def delete_user(uid:str):\n",
    "\n",
    "# def add_user_list(label, list):\n",
    "#     # takes a list of user nodes and creates a label and applies label to user nodes\n",
    "#     cypher_query = '''\n",
    "#     '''"
   ]
  },
  {
   "cell_type": "code",
   "execution_count": 4,
   "metadata": {},
   "outputs": [],
   "source": [
    "# create three new roles\n",
    "# create_role('admin', 'admin')\n",
    "# create_role('subadmin', 'mlex')\n",
    "# create_role('general user', 'gen_user')\n",
    "\n",
    "# create four new users and assign their roles\n",
    "add_user(\"Hari\",\"Krish\", \"hk@lbl.gov\")\n",
    "#assign_role('HKrish00001','admin')\n",
    "\n",
    "add_user(\"John\", \"Doe\", \"jdoe@yahoo.com\")\n",
    "#assign_role('JDoe00002', 'gen_user')\n",
    "\n",
    "add_user(\"Howard\", \"Yanxon\", \"yanxonh@anl.gov\")\n",
    "#assign_role('HYanxon00003', 'mlex')\n",
    "\n",
    "add_user(\"Alex\", \"Hexemer\", \"ahexemer@lbl.gov\")\n",
    "#assign_role('AHexemer00004', 'mlex')"
   ]
  },
  {
   "cell_type": "code",
   "execution_count": 12,
   "metadata": {},
   "outputs": [],
   "source": [
    "# add one file asset\n",
    "add_asset(\"testini\", \"file\", \"testini9324\", \"JDoe000002\")"
   ]
  },
  {
   "cell_type": "code",
   "execution_count": 166,
   "metadata": {},
   "outputs": [],
   "source": [
    "# share file asset in three different ways\n",
    "share_asset_edit(\"testini\", \"HYanxon00003\")\n",
    "share_asset_read(\"testini\", \"AHexemer00004\")\n",
    "assign_asset_manager(\"testini\", \"HKrish00001\")"
   ]
  },
  {
   "cell_type": "code",
   "execution_count": 158,
   "metadata": {},
   "outputs": [
    {
     "data": {
      "text/html": [
       "<div>\n",
       "<style scoped>\n",
       "    .dataframe tbody tr th:only-of-type {\n",
       "        vertical-align: middle;\n",
       "    }\n",
       "\n",
       "    .dataframe tbody tr th {\n",
       "        vertical-align: top;\n",
       "    }\n",
       "\n",
       "    .dataframe thead th {\n",
       "        text-align: right;\n",
       "    }\n",
       "</style>\n",
       "<table border=\"1\" class=\"dataframe\">\n",
       "  <thead>\n",
       "    <tr style=\"text-align: right;\">\n",
       "      <th></th>\n",
       "      <th>Firstname</th>\n",
       "      <th>Lastname</th>\n",
       "      <th>Email</th>\n",
       "    </tr>\n",
       "  </thead>\n",
       "  <tbody>\n",
       "    <tr>\n",
       "      <th>0</th>\n",
       "      <td>Alex</td>\n",
       "      <td>Hexemer</td>\n",
       "      <td>ahexemer@lbl.gov</td>\n",
       "    </tr>\n",
       "  </tbody>\n",
       "</table>\n",
       "</div>"
      ],
      "text/plain": [
       "  Firstname Lastname             Email\n",
       "0      Alex  Hexemer  ahexemer@lbl.gov"
      ]
     },
     "execution_count": 158,
     "metadata": {},
     "output_type": "execute_result"
    }
   ],
   "source": [
    "get_user_info(\"AHexemer00004\")"
   ]
  },
  {
   "cell_type": "code",
   "execution_count": null,
   "metadata": {},
   "outputs": [],
   "source": []
  }
 ],
 "metadata": {
  "interpreter": {
   "hash": "fd677d99d7199ce563fda67e96b9761d73454adb8738afc99b8bb1b71fa6fd80"
  },
  "kernelspec": {
   "display_name": "Python 3.9.7 ('neo4j')",
   "language": "python",
   "name": "python3"
  },
  "language_info": {
   "codemirror_mode": {
    "name": "ipython",
    "version": 3
   },
   "file_extension": ".py",
   "mimetype": "text/x-python",
   "name": "python",
   "nbconvert_exporter": "python",
   "pygments_lexer": "ipython3",
   "version": "3.9.7"
  },
  "orig_nbformat": 4
 },
 "nbformat": 4,
 "nbformat_minor": 2
}
